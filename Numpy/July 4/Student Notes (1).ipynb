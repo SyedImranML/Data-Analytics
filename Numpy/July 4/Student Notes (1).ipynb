{
 "cells": [
  {
   "cell_type": "markdown",
   "id": "ed21718c",
   "metadata": {},
   "source": [
    "## 04 - Array Manipulation\n",
    "\n",
    "Array manipulation in NumPy refers to the various operations and techniques used to modify, reshape, combine, split, or otherwise transform arrays. It provides powerful functions and methods that allow you to manipulate the shape, size, dimensions, and content of arrays, enabling you to efficiently perform a wide range of data processing tasks.\n",
    "\n",
    "### 04.1 - Transposing the array\n",
    "\n",
    "Consider a scenario where you have collected data on the daily sales of different products over a period of time. You store this data in a 2D NumPy array, where each row represents a specific product, and each column represents the sales for a particular day.\n",
    "\n",
    "Here's an example array representing the daily sales of three products (A, B, and C) over five days:"
   ]
  },
  {
   "cell_type": "code",
   "execution_count": 1,
   "id": "d9db1c1b",
   "metadata": {},
   "outputs": [],
   "source": [
    "import numpy as np\n",
    "sales_data = np.array([[10, 15, 12, 18, 20],\n",
    "                      [8, 10, 14, 16, 12],\n",
    "                      [5, 7, 9, 6, 8]])"
   ]
  },
  {
   "cell_type": "code",
   "execution_count": 2,
   "id": "ec18afdf",
   "metadata": {},
   "outputs": [
    {
     "data": {
      "text/plain": [
       "(3, 5)"
      ]
     },
     "execution_count": 2,
     "metadata": {},
     "output_type": "execute_result"
    }
   ],
   "source": [
    "sales_data.shape"
   ]
  },
  {
   "cell_type": "code",
   "execution_count": 4,
   "id": "4192d72f",
   "metadata": {},
   "outputs": [],
   "source": [
    "sales_t = sales_data.T"
   ]
  },
  {
   "cell_type": "code",
   "execution_count": 5,
   "id": "88dc7e2b",
   "metadata": {},
   "outputs": [
    {
     "data": {
      "text/plain": [
       "(5, 3)"
      ]
     },
     "execution_count": 5,
     "metadata": {},
     "output_type": "execute_result"
    }
   ],
   "source": [
    "sales_t.shape"
   ]
  },
  {
   "cell_type": "markdown",
   "id": "d5982e4f",
   "metadata": {},
   "source": [
    "Now, let's say you want to analyze the sales by days rather than by products. In other words, you want to transform the array so that each row represents a specific day, and each column represents the sales of different products on that day.\n",
    "\n",
    "To achieve this, you can use the transpose function or the .T attribute in NumPy:"
   ]
  },
  {
   "cell_type": "code",
   "execution_count": 6,
   "id": "0a4dc5b6",
   "metadata": {},
   "outputs": [
    {
     "name": "stdout",
     "output_type": "stream",
     "text": [
      "[[10  8  5]\n",
      " [15 10  7]\n",
      " [12 14  9]\n",
      " [18 16  6]\n",
      " [20 12  8]]\n"
     ]
    }
   ],
   "source": [
    "transposed_data = sales_data.T\n",
    "print(transposed_data)"
   ]
  },
  {
   "cell_type": "markdown",
   "id": "9f1d3633",
   "metadata": {},
   "source": [
    "The `transpose` function or `.T` attribute rearranges the dimensions of the array, effectively swapping the rows with columns. In this case, it converts the original (3, 5) array into a transposed (5, 3) array. Now, each row represents a specific day, and each column represents the sales of different products on that day. This transformed array allows you to easily analyze and compare the sales across different days for each product.\n",
    "\n",
    "The transpose operation is particularly useful when you need to perform matrix operations, work with multi-dimensional data, or reorganize data according to desired dimensions. It provides a way to conveniently reshape and manipulate arrays to suit your specific analysis needs."
   ]
  },
  {
   "cell_type": "markdown",
   "id": "aa85edb8",
   "metadata": {},
   "source": [
    "### 04.2 - Reshaping the array\n",
    "\n",
    "Consider a scenario where you have collected data on the students' scores in a classroom. You have stored this data in a 1D NumPy array, where each element represents the score of an individual student.\n",
    "\n",
    "Here's an example array representing the scores of 15 students:"
   ]
  },
  {
   "cell_type": "code",
   "execution_count": 7,
   "id": "be26ec77",
   "metadata": {},
   "outputs": [
    {
     "data": {
      "text/plain": [
       "(15,)"
      ]
     },
     "execution_count": 7,
     "metadata": {},
     "output_type": "execute_result"
    }
   ],
   "source": [
    "scores = np.array([82, 75, 90, 88, 92, 78, 85, 80, 87, 95, 86, 91, 84, 89, 93])\n",
    "scores.shape"
   ]
  },
  {
   "cell_type": "code",
   "execution_count": null,
   "id": "ce72ac00",
   "metadata": {},
   "outputs": [],
   "source": [
    "16\n",
    "(4,4)\n",
    "(8*2)\n",
    "(2,8)\n",
    "(16,1)\n",
    "(1,16)"
   ]
  },
  {
   "cell_type": "code",
   "execution_count": 10,
   "id": "aa9993b8",
   "metadata": {},
   "outputs": [
    {
     "data": {
      "text/plain": [
       "(16,)"
      ]
     },
     "execution_count": 10,
     "metadata": {},
     "output_type": "execute_result"
    }
   ],
   "source": [
    "scores = np.array([1,82, 75, 90, 88, 92, 78, 85, 80, 87, 95, 86, 91, 84, 89, 93])\n",
    "scores.shape"
   ]
  },
  {
   "cell_type": "code",
   "execution_count": 15,
   "id": "0cd6fd63",
   "metadata": {},
   "outputs": [
    {
     "data": {
      "text/plain": [
       "array([[ 1, 82],\n",
       "       [75, 90],\n",
       "       [88, 92],\n",
       "       [78, 85],\n",
       "       [80, 87],\n",
       "       [95, 86],\n",
       "       [91, 84],\n",
       "       [89, 93]])"
      ]
     },
     "execution_count": 15,
     "metadata": {},
     "output_type": "execute_result"
    }
   ],
   "source": [
    "scores.reshape((8, 2))"
   ]
  },
  {
   "cell_type": "markdown",
   "id": "b5541fbd",
   "metadata": {},
   "source": [
    "1. **Reshaping it to 2D Array**\n",
    "\n",
    "Now, let's say you want to analyze the scores in a 2D format, where each row represents a student, and each column represents a specific attribute related to the student (e.g., score, grade, attendance, etc.). Reshaping the array to 2D can provide a structured representation of the data.\n",
    "\n",
    "To reshape the array from 1D to 2D, you can use the reshape function in NumPy:"
   ]
  },
  {
   "cell_type": "code",
   "execution_count": 8,
   "id": "90f84b36",
   "metadata": {},
   "outputs": [
    {
     "name": "stdout",
     "output_type": "stream",
     "text": [
      "[[82 75 90]\n",
      " [88 92 78]\n",
      " [85 80 87]\n",
      " [95 86 91]\n",
      " [84 89 93]]\n"
     ]
    }
   ],
   "source": [
    "reshaped_scores = scores.reshape((5, 3))\n",
    "print(reshaped_scores)"
   ]
  },
  {
   "cell_type": "markdown",
   "id": "d6388f52",
   "metadata": {},
   "source": [
    "The reshape function allows you to specify the desired shape of the array as an argument. In this case, we reshape the original (15,) array into a (5, 3) array, where it has 5 rows (corresponding to students) and 3 columns (representing different attributes).\n",
    "\n",
    "Now, each row represents a student, and each column represents a specific attribute related to the student. This reshaped array provides a structured representation of the data, making it easier to analyze and perform operations on specific attributes for each student.\n",
    "\n",
    "2. **Converting back to 1D using flatten():**\n",
    "\n",
    "While the 2D representation is useful for analysis, there might be situations where you need to convert the array back to its original 1D format. The `flatten()` function in NumPy allows you to achieve this."
   ]
  },
  {
   "cell_type": "code",
   "execution_count": 9,
   "id": "2dcc5ad7",
   "metadata": {},
   "outputs": [
    {
     "data": {
      "text/plain": [
       "array([82, 75, 90, 88, 92, 78, 85, 80, 87, 95, 86, 91, 84, 89, 93])"
      ]
     },
     "execution_count": 9,
     "metadata": {},
     "output_type": "execute_result"
    }
   ],
   "source": [
    "reshaped_scores.flatten()"
   ]
  },
  {
   "cell_type": "code",
   "execution_count": null,
   "id": "beadfbf8",
   "metadata": {},
   "outputs": [],
   "source": [
    "flattened_scores = reshaped_scores.flatten()\n",
    "print(flattened_scores)"
   ]
  },
  {
   "cell_type": "markdown",
   "id": "1995725b",
   "metadata": {},
   "source": [
    "The flatten() function returns a 1D array by flattening the input array. In this case, it converts the (5, 3) reshaped_scores array back to its original 1D format."
   ]
  },
  {
   "cell_type": "markdown",
   "id": "427d557f",
   "metadata": {},
   "source": [
    "### 04.3 - Append, Insert and Delete\n",
    "\n",
    "Let's explore the concepts of appending, inserting, and deleting elements in NumPy arrays.\n",
    "\n",
    "1. **Append**\n",
    "\n",
    "Appending an element or array to an existing array in NumPy is a common operation. It allows you to add new data to the end of an array. This operation creates a new array with the combined elements.\n",
    "\n",
    "Consider a scenario where you have a list of temperatures recorded each day for a week. You have stored this data in a NumPy array called temperatures."
   ]
  },
  {
   "cell_type": "code",
   "execution_count": 17,
   "id": "74941122",
   "metadata": {},
   "outputs": [
    {
     "data": {
      "text/plain": [
       "array([24.5, 23.8, 26.1, 25.6, 24.9])"
      ]
     },
     "execution_count": 17,
     "metadata": {},
     "output_type": "execute_result"
    }
   ],
   "source": [
    "temperatures = np.array([24.5, 23.8, 26.1, 25.6, 24.9])\n",
    "temperatures"
   ]
  },
  {
   "cell_type": "markdown",
   "id": "c9b9752b",
   "metadata": {},
   "source": [
    "Now, let's say you want to add the temperature recorded on the 6th day (27.3) to the existing array. You can use the append function in NumPy to achieve this:"
   ]
  },
  {
   "cell_type": "code",
   "execution_count": 18,
   "id": "11299139",
   "metadata": {},
   "outputs": [
    {
     "name": "stdout",
     "output_type": "stream",
     "text": [
      "[24.5 23.8 26.1 25.6 24.9 27.3]\n"
     ]
    }
   ],
   "source": [
    "updated_temperatures = np.append(temperatures, 27.3)\n",
    "print(updated_temperatures)"
   ]
  },
  {
   "cell_type": "markdown",
   "id": "b2286f71",
   "metadata": {},
   "source": [
    "The `append` function takes two arguments: the original array and the element(s) you want to append. In this case, we append the temperature value 27.3 to the temperatures array. Appending elements is useful when you need to expand the size of an array dynamically or add new data to an existing array without overwriting the original data.\n",
    "\n",
    "2. **Insert**\n",
    "\n",
    "Inserting an element or array at a specific position within an existing array is another common operation in NumPy. It allows you to add new data at a specified index while shifting the remaining elements accordingly.\n",
    "\n",
    "Let's continue with the temperature example. Suppose you want to insert the temperature recorded on the 4th day (25.2) into the temperatures array at index 3 (0-based indexing). You can use the insert function in NumPy:"
   ]
  },
  {
   "cell_type": "code",
   "execution_count": 19,
   "id": "ec52089e",
   "metadata": {},
   "outputs": [
    {
     "name": "stdout",
     "output_type": "stream",
     "text": [
      "[24.5 23.8 26.1 25.2 25.6 24.9]\n"
     ]
    }
   ],
   "source": [
    "updated_temperatures = np.insert(temperatures, 3, 25.2)\n",
    "print(updated_temperatures)"
   ]
  },
  {
   "cell_type": "markdown",
   "id": "2e512013",
   "metadata": {},
   "source": [
    "The `insert` function takes three arguments: the original array, the index at which you want to insert the element(s), and the element(s) you want to insert. In this case, we insert the temperature value 25.2 into the temperatures array at index 3. Inserting elements allows you to place data at specific positions within an array, enabling you to maintain order and structure in your data.\n",
    "\n",
    "3. **Delete**\n",
    "\n",
    "Deleting an element or a set of elements from an existing array is a useful operation in NumPy. It allows you to remove unwanted data and resize the array accordingly.\n",
    "\n",
    "Continuing with the temperature example, let's say you want to delete the temperature recorded on the 2nd day (23.8) from the temperatures array. You can use the delete function in NumPy:"
   ]
  },
  {
   "cell_type": "code",
   "execution_count": 20,
   "id": "578e7bc2",
   "metadata": {},
   "outputs": [
    {
     "name": "stdout",
     "output_type": "stream",
     "text": [
      "[24.5 26.1 25.6 24.9]\n"
     ]
    }
   ],
   "source": [
    "updated_temperatures = np.delete(temperatures, 1)\n",
    "print(updated_temperatures)"
   ]
  },
  {
   "cell_type": "markdown",
   "id": "8a096078",
   "metadata": {},
   "source": [
    "The `delete` function in NumPy takes two arguments: the original array and the index or indices of the element(s) you want to delete. In this case, we delete the temperature value at index 1 (representing the 2nd day) from the temperatures array. Deleting elements is beneficial when you want to remove specific data points from an array, adjust the size of the array, or clean up unwanted values."
   ]
  },
  {
   "cell_type": "markdown",
   "id": "9cc80857",
   "metadata": {},
   "source": [
    "### 04.4 - Combining arrays in Numpy\n",
    "\n",
    "Combining arrays refers to the process of joining multiple arrays together to create a single array. This operation is useful when you want to merge data from different sources or concatenate arrays along different dimensions.\n",
    "\n",
    "Consider a scenario where you have two arrays representing the heights and weights of individuals:"
   ]
  },
  {
   "cell_type": "code",
   "execution_count": 21,
   "id": "023b3dda",
   "metadata": {},
   "outputs": [],
   "source": [
    "heights = np.array([165, 170, 155, 180])\n",
    "weights = np.array([68, 72, 60, 85])"
   ]
  },
  {
   "cell_type": "markdown",
   "id": "2800e4a9",
   "metadata": {},
   "source": [
    "1. **Combining vertically using vstack**\n",
    "\n",
    "The `vstack` function in NumPy is used to vertically stack arrays, meaning to concatenate them along the vertical axis (rows). This function allows you to combine arrays with the same number of columns.\n",
    "\n",
    "Using the vstack function, you can merge the heights and weights arrays to create a new array representing the height and weight measurements of the individuals:"
   ]
  },
  {
   "cell_type": "code",
   "execution_count": 22,
   "id": "cc176bf5",
   "metadata": {},
   "outputs": [
    {
     "name": "stdout",
     "output_type": "stream",
     "text": [
      "[[165 170 155 180]\n",
      " [ 68  72  60  85]]\n"
     ]
    }
   ],
   "source": [
    "measurements = np.vstack((heights, weights))\n",
    "print(measurements)"
   ]
  },
  {
   "cell_type": "markdown",
   "id": "95792bfd",
   "metadata": {},
   "source": [
    "Now, the measurements array has two rows, where the first row represents the heights and the second row represents the weights of the individuals. The `vstack` function is useful when you want to combine arrays vertically, such as when merging data that corresponds to the same set of individuals or objects.\n",
    "\n",
    "2. **Combining horizontally using hstack**\n",
    "\n",
    "The `hstack` function in NumPy is used to horizontally stack arrays, meaning to concatenate them along the horizontal axis (columns). This function allows you to combine arrays with the same number of rows.\n",
    "\n",
    "Continuing with the previous example, let's say you have another array representing the ages of the individuals:"
   ]
  },
  {
   "cell_type": "code",
   "execution_count": 34,
   "id": "d1f738ae",
   "metadata": {},
   "outputs": [],
   "source": [
    "ages = np.array([25, 32, 28, 36])\n",
    "# data = np.hstack(ages,ages)"
   ]
  },
  {
   "cell_type": "code",
   "execution_count": 35,
   "id": "46e63ff9",
   "metadata": {},
   "outputs": [
    {
     "data": {
      "text/plain": [
       "(4,)"
      ]
     },
     "execution_count": 35,
     "metadata": {},
     "output_type": "execute_result"
    }
   ],
   "source": [
    "ages.shape"
   ]
  },
  {
   "cell_type": "code",
   "execution_count": null,
   "id": "a9d5d742",
   "metadata": {},
   "outputs": [],
   "source": []
  },
  {
   "cell_type": "code",
   "execution_count": 36,
   "id": "2f57e6e9",
   "metadata": {},
   "outputs": [
    {
     "data": {
      "text/plain": [
       "array([[25],\n",
       "       [32],\n",
       "       [28],\n",
       "       [36]])"
      ]
     },
     "execution_count": 36,
     "metadata": {},
     "output_type": "execute_result"
    }
   ],
   "source": [
    "x = ages.reshape(4,1)\n",
    "x"
   ]
  },
  {
   "cell_type": "code",
   "execution_count": 37,
   "id": "5f3593ba",
   "metadata": {},
   "outputs": [
    {
     "data": {
      "text/plain": [
       "(4, 1)"
      ]
     },
     "execution_count": 37,
     "metadata": {},
     "output_type": "execute_result"
    }
   ],
   "source": [
    "x.shape"
   ]
  },
  {
   "cell_type": "code",
   "execution_count": null,
   "id": "d1a05896",
   "metadata": {},
   "outputs": [],
   "source": []
  },
  {
   "cell_type": "code",
   "execution_count": 33,
   "id": "c5540977",
   "metadata": {},
   "outputs": [
    {
     "data": {
      "text/plain": [
       "array([[25],\n",
       "       [32],\n",
       "       [28],\n",
       "       [36],\n",
       "       [ 1]])"
      ]
     },
     "execution_count": 33,
     "metadata": {},
     "output_type": "execute_result"
    }
   ],
   "source": [
    "ages.reshape(-1, 1)"
   ]
  },
  {
   "cell_type": "code",
   "execution_count": 38,
   "id": "65f1d2b7",
   "metadata": {},
   "outputs": [
    {
     "name": "stdout",
     "output_type": "stream",
     "text": [
      "[[165  68  25]\n",
      " [170  72  32]\n",
      " [155  60  28]\n",
      " [180  85  36]]\n"
     ]
    }
   ],
   "source": [
    "ages = np.array([25, 32, 28, 36])\n",
    "data = np.hstack((heights.reshape(-1, 1), weights.reshape(-1, 1), ages.reshape(-1, 1)))\n",
    "print(data)"
   ]
  },
  {
   "cell_type": "markdown",
   "id": "9c0233ab",
   "metadata": {},
   "source": [
    "Now, the data array has four rows, where the first column represents the heights, the second column represents the weights, and the third column represents the ages of the individuals.\n",
    "\n",
    "The hstack function allows you to combine arrays horizontally, which is useful when you want to merge data that corresponds to different attributes or variables of the same individuals or objects.\n",
    "\n",
    "### 04.5 - Splitting arrays in Numpy\n",
    "\n",
    "Splitting arrays refers to dividing a single array into multiple smaller arrays. This operation is useful when you want to separate and extract specific parts of an array for further analysis or processing.\n",
    "\n",
    "Consider a scenario where you have a 2D array representing the temperatures recorded at different locations for each month of the year:"
   ]
  },
  {
   "cell_type": "code",
   "execution_count": 39,
   "id": "80a48d2c",
   "metadata": {},
   "outputs": [],
   "source": [
    "temperatures = np.array([[25, 28, 30, 26],\n",
    "                         [22, 24, 26, 20],\n",
    "                         [28, 30, 32, 29],\n",
    "                         [20, 23, 25, 22]])"
   ]
  },
  {
   "cell_type": "markdown",
   "id": "42161ebb",
   "metadata": {},
   "source": [
    "1. **Splitting vertically using vsplit**\n",
    "\n",
    "The `vsplit` function is used to vertically split an array into multiple smaller arrays along the rows. "
   ]
  },
  {
   "cell_type": "code",
   "execution_count": 40,
   "id": "ce8b3b5b",
   "metadata": {},
   "outputs": [
    {
     "data": {
      "text/plain": [
       "array([[25, 28, 30, 26],\n",
       "       [22, 24, 26, 20],\n",
       "       [28, 30, 32, 29],\n",
       "       [20, 23, 25, 22]])"
      ]
     },
     "execution_count": 40,
     "metadata": {},
     "output_type": "execute_result"
    }
   ],
   "source": [
    "temperatures"
   ]
  },
  {
   "cell_type": "code",
   "execution_count": 47,
   "id": "e8870d13",
   "metadata": {},
   "outputs": [
    {
     "name": "stdout",
     "output_type": "stream",
     "text": [
      "[array([[25, 28, 30, 26],\n",
      "       [22, 24, 26, 20]]), array([[28, 30, 32, 29],\n",
      "       [20, 23, 25, 22]])]\n"
     ]
    }
   ],
   "source": [
    "split_rows = np.vsplit(temperatures, 2)\n",
    "print(split_rows)"
   ]
  },
  {
   "cell_type": "markdown",
   "id": "26968477",
   "metadata": {},
   "source": [
    "Now, `split_rows[0]` represents the temperatures for the first half of the year (first 2 rows) and `split_rows[1]` represents the temperatures for the second half of the year (last 2 rows).\n",
    "\n",
    "2. **Splitting horizontally using hsplit**\n",
    "\n",
    "The `hsplit` function is used to horizontally split an array into multiple smaller arrays along the columns."
   ]
  },
  {
   "cell_type": "code",
   "execution_count": 48,
   "id": "a4d4e9cd",
   "metadata": {},
   "outputs": [
    {
     "data": {
      "text/plain": [
       "array([[25, 28, 30, 26],\n",
       "       [22, 24, 26, 20],\n",
       "       [28, 30, 32, 29],\n",
       "       [20, 23, 25, 22]])"
      ]
     },
     "execution_count": 48,
     "metadata": {},
     "output_type": "execute_result"
    }
   ],
   "source": [
    "temperatures"
   ]
  },
  {
   "cell_type": "code",
   "execution_count": 49,
   "id": "d72b4a40",
   "metadata": {},
   "outputs": [
    {
     "name": "stdout",
     "output_type": "stream",
     "text": [
      "[array([[25, 28],\n",
      "       [22, 24],\n",
      "       [28, 30],\n",
      "       [20, 23]]), array([[30, 26],\n",
      "       [26, 20],\n",
      "       [32, 29],\n",
      "       [25, 22]])]\n"
     ]
    }
   ],
   "source": [
    "split_columns = np.hsplit(temperatures, 2)\n",
    "print(split_columns)"
   ]
  },
  {
   "cell_type": "markdown",
   "id": "7eb4684b",
   "metadata": {},
   "source": [
    "Now, `split_columns[0]` represents the temperatures for the first half of the locations (first 2 columns) and `split_columns[1]` represents the temperatures for the second half of the locations (last 2 columns).\n",
    "\n",
    "In summary, the vsplit function splits the array vertically along the rows, while the hsplit function splits the array horizontally along the columns. Depending on your data and the specific splitting requirements, you can use these functions to divide an array into smaller, more manageable sub-arrays. \n",
    "\n",
    "<hr>"
   ]
  }
 ],
 "metadata": {
  "kernelspec": {
   "display_name": "Python 3 (ipykernel)",
   "language": "python",
   "name": "python3"
  },
  "language_info": {
   "codemirror_mode": {
    "name": "ipython",
    "version": 3
   },
   "file_extension": ".py",
   "mimetype": "text/x-python",
   "name": "python",
   "nbconvert_exporter": "python",
   "pygments_lexer": "ipython3",
   "version": "3.9.7"
  }
 },
 "nbformat": 4,
 "nbformat_minor": 5
}
