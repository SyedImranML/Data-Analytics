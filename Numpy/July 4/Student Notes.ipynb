{
 "cells": [
  {
   "cell_type": "markdown",
   "id": "16d612c1",
   "metadata": {},
   "source": [
    "## Lecture 03 - Accessing Elements\n",
    "\n",
    "Once we have put the data in Numpy Arrays, obviously we should be able to read/access the data. If we can't retreive the data back, there is no point in storing it at first place. \n",
    "\n",
    "In Numpy, there are three ways to access the data, which we will see in detail in the upcoming sections. \n",
    "1. **Basic Indexing and Slicing**\n",
    "2. **Boolean Indexing/Masking**\n",
    "3. **Array Indexing/Fancy Indexing**\n",
    "\n",
    "So, let's jump into these topics."
   ]
  },
  {
   "cell_type": "markdown",
   "id": "a6bd283a",
   "metadata": {},
   "source": [
    "### 03.1 - Basic Indexing and Slicing\n",
    "\n",
    "Basic indexing in NumPy allows you to access individual elements or a range of elements in an array using square brackets `[]`. It is the simplest and most common way to retrieve specific elements from an array. \n",
    "\n",
    "Consider a scenario where you have an array representing the daily temperatures in a week:"
   ]
  },
  {
   "cell_type": "code",
   "execution_count": 2,
   "id": "6e91b36b",
   "metadata": {},
   "outputs": [],
   "source": [
    "import numpy as np\n",
    "\n",
    "temperatures = np.array([25, 26, 28, 24, 23, 26, 27])"
   ]
  },
  {
   "cell_type": "markdown",
   "id": "a67b0346",
   "metadata": {},
   "source": [
    "Now, let's explore different ways to perform basic indexing:\n",
    "\n",
    "1. **Accessing Individual Elements:**\n",
    "\n",
    "You can access individual elements by specifying the index of the desired element within the square brackets."
   ]
  },
  {
   "cell_type": "code",
   "execution_count": 3,
   "id": "1e56abf2",
   "metadata": {},
   "outputs": [
    {
     "name": "stdout",
     "output_type": "stream",
     "text": [
      "25\n",
      "24\n"
     ]
    }
   ],
   "source": [
    "print(temperatures[0])   # Access the temperature on the first day\n",
    "print(temperatures[3])   # Access the temperature on the fourth day"
   ]
  },
  {
   "cell_type": "code",
   "execution_count": 4,
   "id": "72ef4dd3",
   "metadata": {},
   "outputs": [
    {
     "name": "stdout",
     "output_type": "stream",
     "text": [
      "27\n"
     ]
    }
   ],
   "source": [
    "print(temperatures[-1])"
   ]
  },
  {
   "cell_type": "code",
   "execution_count": 5,
   "id": "b57fe2f3",
   "metadata": {},
   "outputs": [
    {
     "name": "stdout",
     "output_type": "stream",
     "text": [
      "26\n"
     ]
    }
   ],
   "source": [
    "print(temperatures[-2])"
   ]
  },
  {
   "cell_type": "markdown",
   "id": "49d335cf",
   "metadata": {},
   "source": [
    "2. **Accessing a Range of Elements:**\n",
    "\n",
    "You can access a range of elements by specifying the starting and ending indices within the square brackets using the colon `:`."
   ]
  },
  {
   "cell_type": "code",
   "execution_count": 6,
   "id": "ff225863",
   "metadata": {},
   "outputs": [
    {
     "name": "stdout",
     "output_type": "stream",
     "text": [
      "[25 26 28 24 23 26 27]\n"
     ]
    }
   ],
   "source": [
    "temperatures = np.array([25, 26, 28, 24, 23, 26, 27])\n",
    "print(temperatures)"
   ]
  },
  {
   "cell_type": "code",
   "execution_count": 7,
   "id": "5ad380a7",
   "metadata": {},
   "outputs": [
    {
     "name": "stdout",
     "output_type": "stream",
     "text": [
      "[26 28 24]\n"
     ]
    }
   ],
   "source": [
    "print(temperatures[1:4])   # Access temperatures from the second to the fourth day"
   ]
  },
  {
   "cell_type": "code",
   "execution_count": 8,
   "id": "5e665af2",
   "metadata": {},
   "outputs": [
    {
     "name": "stdout",
     "output_type": "stream",
     "text": [
      "[24 23]\n"
     ]
    }
   ],
   "source": [
    "print(temperatures[3:5]) \n",
    "# fetch 3,4 and not 5th"
   ]
  },
  {
   "cell_type": "code",
   "execution_count": 9,
   "id": "97cb0fca",
   "metadata": {},
   "outputs": [
    {
     "name": "stdout",
     "output_type": "stream",
     "text": [
      "[28 24 23 26 27]\n"
     ]
    }
   ],
   "source": [
    "print(temperatures[2:])    # Access temperatures from the third day to the last day"
   ]
  },
  {
   "cell_type": "code",
   "execution_count": 10,
   "id": "db7643b5",
   "metadata": {},
   "outputs": [
    {
     "name": "stdout",
     "output_type": "stream",
     "text": [
      "[25 26 28]\n"
     ]
    }
   ],
   "source": [
    "print(temperatures[:3])\n",
    "# 0,1,2 and not 3"
   ]
  },
  {
   "cell_type": "markdown",
   "id": "52178985",
   "metadata": {},
   "source": [
    "It's important to note that indexing in NumPy starts from 0, so the first element is accessed using index 0, the second element with index 1, and so on.\n",
    "\n",
    "### 03.2 - Boolean Indexing (also known as Masking)\n",
    "\n",
    "Boolean indexing in NumPy allows you to select elements from an array based on a boolean condition or mask. It provides a powerful way to filter and extract data that satisfies a particular criterion.\n",
    "\n",
    "Consider a scenario where you have an array representing the scores of students in a class:"
   ]
  },
  {
   "cell_type": "code",
   "execution_count": 11,
   "id": "e91dcf65",
   "metadata": {},
   "outputs": [],
   "source": [
    "scores = np.array([85, 90, 78, 92, 88, 95, 80])"
   ]
  },
  {
   "cell_type": "markdown",
   "id": "1eb2450d",
   "metadata": {},
   "source": [
    "Now, let's explore how to use boolean indexing to filter and extract elements.\n",
    "\n",
    "First, you need to create a boolean mask by applying a condition to the array. The result is a boolean array of the same shape as the original array, where each element indicates whether the corresponding element in the original array satisfies the condition."
   ]
  },
  {
   "cell_type": "code",
   "execution_count": 14,
   "id": "6abd72a0",
   "metadata": {},
   "outputs": [
    {
     "name": "stdout",
     "output_type": "stream",
     "text": [
      "[False  True False  True False  True False]\n"
     ]
    }
   ],
   "source": [
    "passing_mask = scores >= 90\n",
    "print(passing_mask)"
   ]
  },
  {
   "cell_type": "markdown",
   "id": "b8ff5d31",
   "metadata": {},
   "source": [
    "In this example, scores >= 90 creates a boolean mask where True corresponds to scores that are equal to or greater than 90. The resulting mask indicates which students passed the exam.\n",
    "\n",
    "Once you have the boolean mask, you can use it to select the elements that satisfy the condition by passing the mask inside the square brackets."
   ]
  },
  {
   "cell_type": "code",
   "execution_count": 17,
   "id": "5aec1956",
   "metadata": {},
   "outputs": [
    {
     "data": {
      "text/plain": [
       "array([85, 90, 78, 92, 88, 95, 80])"
      ]
     },
     "execution_count": 17,
     "metadata": {},
     "output_type": "execute_result"
    }
   ],
   "source": [
    "scores"
   ]
  },
  {
   "cell_type": "code",
   "execution_count": 18,
   "id": "048f8952",
   "metadata": {},
   "outputs": [
    {
     "data": {
      "text/plain": [
       "array([False,  True, False,  True, False,  True, False])"
      ]
     },
     "execution_count": 18,
     "metadata": {},
     "output_type": "execute_result"
    }
   ],
   "source": [
    "passing_mask"
   ]
  },
  {
   "cell_type": "code",
   "execution_count": 16,
   "id": "cb8f6385",
   "metadata": {},
   "outputs": [
    {
     "data": {
      "text/plain": [
       "array([90, 92, 95])"
      ]
     },
     "execution_count": 16,
     "metadata": {},
     "output_type": "execute_result"
    }
   ],
   "source": [
    "scores[passing_mask]"
   ]
  },
  {
   "cell_type": "code",
   "execution_count": 19,
   "id": "6bea44cd",
   "metadata": {},
   "outputs": [
    {
     "name": "stdout",
     "output_type": "stream",
     "text": [
      "[90 92 95]\n"
     ]
    }
   ],
   "source": [
    "passing_scores = scores[passing_mask]\n",
    "print(passing_scores)"
   ]
  },
  {
   "cell_type": "markdown",
   "id": "412bb380",
   "metadata": {},
   "source": [
    "In this example, `scores[passing_mask]` retrieves the scores of students who passed the exam based on the boolean mask."
   ]
  },
  {
   "cell_type": "markdown",
   "id": "02c8cbad",
   "metadata": {},
   "source": [
    "### 03.3 - Array Indexing (also known as Fancy Indexing)\n",
    "\n",
    "Integer array indexing in NumPy allows you to select elements from an array using an array of integer indices. It provides a way to access specific elements by specifying their positions with the help of another array. \n",
    "\n",
    "Imagine you have a list of students in a class, and you want to select specific students based on their positions in the list. Each student is assigned a unique ID, and you have an array representing their IDs:"
   ]
  },
  {
   "cell_type": "code",
   "execution_count": 20,
   "id": "d00f88f2",
   "metadata": {},
   "outputs": [],
   "source": [
    "student_ids = np.array([101, 105, 110, 115, 120, 125])"
   ]
  },
  {
   "cell_type": "markdown",
   "id": "4b5a9c99",
   "metadata": {},
   "source": [
    "Now, let's explore how to use integer array indexing to select specific students:\n",
    "\n",
    "To select specific students, you need to create another array containing the indices of the students you want to choose. These indices represent the positions of the students in the original list.\n",
    "\n",
    "```py\n",
    "indices = np.array([1, 3, 5])\n",
    "```\n",
    "\n",
    "In this example, indices is an array that contains the positions of the students you want to select.\n",
    "\n",
    "Once you have the array of indices, you can use it to select the desired students from the original array by passing it inside the square brackets.\n",
    "\n",
    "```py\n",
    "selected_students = student_ids[indices]\n",
    "print(selected_students)\n",
    "```\n",
    "In this example, `student_ids[indices]` retrieves the students' IDs at the positions specified by the indices array."
   ]
  },
  {
   "cell_type": "code",
   "execution_count": 24,
   "id": "a236d108",
   "metadata": {},
   "outputs": [
    {
     "data": {
      "text/plain": [
       "array([101, 105, 110, 115, 120, 125])"
      ]
     },
     "execution_count": 24,
     "metadata": {},
     "output_type": "execute_result"
    }
   ],
   "source": [
    "student_ids"
   ]
  },
  {
   "cell_type": "code",
   "execution_count": 25,
   "id": "b174131a",
   "metadata": {},
   "outputs": [
    {
     "name": "stdout",
     "output_type": "stream",
     "text": [
      "[105 115 125]\n"
     ]
    }
   ],
   "source": [
    "indices = np.array([1, 3, 5])\n",
    "selected_students = student_ids[indices]\n",
    "print(selected_students)"
   ]
  },
  {
   "cell_type": "code",
   "execution_count": 31,
   "id": "2eb8bfd1",
   "metadata": {},
   "outputs": [
    {
     "ename": "IndexError",
     "evalue": "index 7 is out of bounds for axis 0 with size 6",
     "output_type": "error",
     "traceback": [
      "\u001b[0;31m---------------------------------------------------------------------------\u001b[0m",
      "\u001b[0;31mIndexError\u001b[0m                                Traceback (most recent call last)",
      "\u001b[0;32m/var/folders/dq/452wvgp96nv2qcc3dn0dv8240000gn/T/ipykernel_1352/156999797.py\u001b[0m in \u001b[0;36m<module>\u001b[0;34m\u001b[0m\n\u001b[0;32m----> 1\u001b[0;31m \u001b[0mnp\u001b[0m\u001b[0;34m.\u001b[0m\u001b[0mtake\u001b[0m\u001b[0;34m(\u001b[0m\u001b[0mstudent_ids\u001b[0m\u001b[0;34m,\u001b[0m\u001b[0;36m7\u001b[0m\u001b[0;34m)\u001b[0m\u001b[0;34m\u001b[0m\u001b[0;34m\u001b[0m\u001b[0m\n\u001b[0m",
      "\u001b[0;32m<__array_function__ internals>\u001b[0m in \u001b[0;36mtake\u001b[0;34m(*args, **kwargs)\u001b[0m\n",
      "\u001b[0;32m~/opt/anaconda3/lib/python3.9/site-packages/numpy/core/fromnumeric.py\u001b[0m in \u001b[0;36mtake\u001b[0;34m(a, indices, axis, out, mode)\u001b[0m\n\u001b[1;32m    189\u001b[0m            [5, 7]])\n\u001b[1;32m    190\u001b[0m     \"\"\"\n\u001b[0;32m--> 191\u001b[0;31m     \u001b[0;32mreturn\u001b[0m \u001b[0m_wrapfunc\u001b[0m\u001b[0;34m(\u001b[0m\u001b[0ma\u001b[0m\u001b[0;34m,\u001b[0m \u001b[0;34m'take'\u001b[0m\u001b[0;34m,\u001b[0m \u001b[0mindices\u001b[0m\u001b[0;34m,\u001b[0m \u001b[0maxis\u001b[0m\u001b[0;34m=\u001b[0m\u001b[0maxis\u001b[0m\u001b[0;34m,\u001b[0m \u001b[0mout\u001b[0m\u001b[0;34m=\u001b[0m\u001b[0mout\u001b[0m\u001b[0;34m,\u001b[0m \u001b[0mmode\u001b[0m\u001b[0;34m=\u001b[0m\u001b[0mmode\u001b[0m\u001b[0;34m)\u001b[0m\u001b[0;34m\u001b[0m\u001b[0;34m\u001b[0m\u001b[0m\n\u001b[0m\u001b[1;32m    192\u001b[0m \u001b[0;34m\u001b[0m\u001b[0m\n\u001b[1;32m    193\u001b[0m \u001b[0;34m\u001b[0m\u001b[0m\n",
      "\u001b[0;32m~/opt/anaconda3/lib/python3.9/site-packages/numpy/core/fromnumeric.py\u001b[0m in \u001b[0;36m_wrapfunc\u001b[0;34m(obj, method, *args, **kwds)\u001b[0m\n\u001b[1;32m     56\u001b[0m \u001b[0;34m\u001b[0m\u001b[0m\n\u001b[1;32m     57\u001b[0m     \u001b[0;32mtry\u001b[0m\u001b[0;34m:\u001b[0m\u001b[0;34m\u001b[0m\u001b[0;34m\u001b[0m\u001b[0m\n\u001b[0;32m---> 58\u001b[0;31m         \u001b[0;32mreturn\u001b[0m \u001b[0mbound\u001b[0m\u001b[0;34m(\u001b[0m\u001b[0;34m*\u001b[0m\u001b[0margs\u001b[0m\u001b[0;34m,\u001b[0m \u001b[0;34m**\u001b[0m\u001b[0mkwds\u001b[0m\u001b[0;34m)\u001b[0m\u001b[0;34m\u001b[0m\u001b[0;34m\u001b[0m\u001b[0m\n\u001b[0m\u001b[1;32m     59\u001b[0m     \u001b[0;32mexcept\u001b[0m \u001b[0mTypeError\u001b[0m\u001b[0;34m:\u001b[0m\u001b[0;34m\u001b[0m\u001b[0;34m\u001b[0m\u001b[0m\n\u001b[1;32m     60\u001b[0m         \u001b[0;31m# A TypeError occurs if the object does have such a method in its\u001b[0m\u001b[0;34m\u001b[0m\u001b[0;34m\u001b[0m\u001b[0m\n",
      "\u001b[0;31mIndexError\u001b[0m: index 7 is out of bounds for axis 0 with size 6"
     ]
    }
   ],
   "source": [
    "np.take(student_ids,7)"
   ]
  },
  {
   "cell_type": "code",
   "execution_count": null,
   "id": "220701bc",
   "metadata": {},
   "outputs": [],
   "source": [
    "students.g"
   ]
  },
  {
   "cell_type": "markdown",
   "id": "5e022ef3",
   "metadata": {},
   "source": [
    "By utilizing these various indexing techniques, you can selectively access and manipulate elements in NumPy arrays based on their positions, offering flexibility and control over data extraction and manipulation tasks. "
   ]
  },
  {
   "cell_type": "markdown",
   "id": "8776095f",
   "metadata": {},
   "source": [
    "### 03.4 Working with 2D Arrays\n",
    "\n",
    "Imagine you have a 2D array representing the daily closing prices of different stocks over a certain period of time. Each row corresponds to a stock, and each column represents a trading day. "
   ]
  },
  {
   "cell_type": "code",
   "execution_count": 33,
   "id": "eb583e41",
   "metadata": {},
   "outputs": [
    {
     "name": "stdout",
     "output_type": "stream",
     "text": [
      "Closing Prices:\n",
      "[[184 146  61 145  80]\n",
      " [112  71 184 100 108]\n",
      " [121 150 114  54  94]\n",
      " [128  73 180  69 118]\n",
      " [ 72 166 113 138  61]]\n"
     ]
    }
   ],
   "source": [
    "# Create a 2D array of daily closing prices (5 stocks x 30 trading days)\n",
    "closing_prices = np.random.randint(low=50, high=200, size=(5, 5))\n",
    "print(\"Closing Prices:\")\n",
    "print(closing_prices)"
   ]
  },
  {
   "cell_type": "code",
   "execution_count": 34,
   "id": "e4a5acd2",
   "metadata": {},
   "outputs": [
    {
     "data": {
      "text/plain": [
       "2"
      ]
     },
     "execution_count": 34,
     "metadata": {},
     "output_type": "execute_result"
    }
   ],
   "source": [
    "closing_prices.ndim"
   ]
  },
  {
   "cell_type": "code",
   "execution_count": 36,
   "id": "ccf58f25",
   "metadata": {},
   "outputs": [
    {
     "data": {
      "text/plain": [
       "(5, 5)"
      ]
     },
     "execution_count": 36,
     "metadata": {},
     "output_type": "execute_result"
    }
   ],
   "source": [
    "closing_prices.shape"
   ]
  },
  {
   "cell_type": "markdown",
   "id": "9044eb6e",
   "metadata": {},
   "source": [
    "1. **Accessing a Row:**\n",
    "\n",
    "In this case, you may want to access a specific row corresponding to a particular stock. You can do this by specifying the row index."
   ]
  },
  {
   "cell_type": "code",
   "execution_count": 37,
   "id": "92167868",
   "metadata": {},
   "outputs": [
    {
     "data": {
      "text/plain": [
       "array([[184, 146,  61, 145,  80],\n",
       "       [112,  71, 184, 100, 108],\n",
       "       [121, 150, 114,  54,  94],\n",
       "       [128,  73, 180,  69, 118],\n",
       "       [ 72, 166, 113, 138,  61]])"
      ]
     },
     "execution_count": 37,
     "metadata": {},
     "output_type": "execute_result"
    }
   ],
   "source": [
    "closing_prices"
   ]
  },
  {
   "cell_type": "code",
   "execution_count": 38,
   "id": "fa370658",
   "metadata": {},
   "outputs": [
    {
     "name": "stdout",
     "output_type": "stream",
     "text": [
      "Closing Prices for Stock 3:\n",
      "[121 150 114  54  94]\n"
     ]
    }
   ],
   "source": [
    "stock_3_prices = closing_prices[2]\n",
    "print(\"Closing Prices for Stock 3:\")\n",
    "print(stock_3_prices)"
   ]
  },
  {
   "cell_type": "code",
   "execution_count": null,
   "id": "3fb28044",
   "metadata": {},
   "outputs": [],
   "source": []
  },
  {
   "cell_type": "code",
   "execution_count": null,
   "id": "989cbbc3",
   "metadata": {},
   "outputs": [],
   "source": []
  },
  {
   "cell_type": "code",
   "execution_count": 44,
   "id": "a624ee8e",
   "metadata": {},
   "outputs": [
    {
     "data": {
      "text/plain": [
       "114"
      ]
     },
     "execution_count": 44,
     "metadata": {},
     "output_type": "execute_result"
    }
   ],
   "source": [
    "# closing_prices[2][2]\n",
    "closing_prices[2,2]"
   ]
  },
  {
   "cell_type": "code",
   "execution_count": 45,
   "id": "886585ad",
   "metadata": {},
   "outputs": [
    {
     "data": {
      "text/plain": [
       "array([[184, 146,  61, 145,  80],\n",
       "       [112,  71, 184, 100, 108],\n",
       "       [121, 150, 114,  54,  94],\n",
       "       [128,  73, 180,  69, 118],\n",
       "       [ 72, 166, 113, 138,  61]])"
      ]
     },
     "execution_count": 45,
     "metadata": {},
     "output_type": "execute_result"
    }
   ],
   "source": [
    "closing_prices"
   ]
  },
  {
   "cell_type": "code",
   "execution_count": 50,
   "id": "8a0f80cc",
   "metadata": {},
   "outputs": [
    {
     "data": {
      "text/plain": [
       "array([[121, 150, 114,  54],\n",
       "       [128,  73, 180,  69],\n",
       "       [ 72, 166, 113, 138]])"
      ]
     },
     "execution_count": 50,
     "metadata": {},
     "output_type": "execute_result"
    }
   ],
   "source": [
    "closing_prices[2:, :4]\n",
    "\n",
    "# closing_prices[2: - fetch from 2nd index rows till end,\n",
    "#               :4 - fetch till 4th index (not incl.)]\n",
    "\n",
    "# rows,columns"
   ]
  },
  {
   "cell_type": "code",
   "execution_count": 51,
   "id": "0e1cc751",
   "metadata": {},
   "outputs": [
    {
     "data": {
      "text/plain": [
       "array([[128],\n",
       "       [ 72]])"
      ]
     },
     "execution_count": 51,
     "metadata": {},
     "output_type": "execute_result"
    }
   ],
   "source": [
    "closing_prices[3:, :1]"
   ]
  },
  {
   "cell_type": "code",
   "execution_count": 54,
   "id": "10ecc76d",
   "metadata": {},
   "outputs": [
    {
     "data": {
      "text/plain": [
       "array([[128],\n",
       "       [ 72]])"
      ]
     },
     "execution_count": 54,
     "metadata": {},
     "output_type": "execute_result"
    }
   ],
   "source": [
    "closing_prices[3:, :1]"
   ]
  },
  {
   "cell_type": "code",
   "execution_count": null,
   "id": "97d45179",
   "metadata": {},
   "outputs": [],
   "source": []
  },
  {
   "cell_type": "markdown",
   "id": "3e501b3b",
   "metadata": {},
   "source": [
    "2. **Accessing Multiple Rows:**\n",
    "\n",
    "To access multiple rows, you can specify a range of row indices using slicing."
   ]
  },
  {
   "cell_type": "code",
   "execution_count": null,
   "id": "e30ba5fa",
   "metadata": {},
   "outputs": [],
   "source": [
    "# Access the closing prices for stocks 2, 4, and 5 (row indices 1, 3, and 4)\n",
    "selected_stocks_prices = closing_prices[[1, 3, 4]]\n",
    "print(\"Closing Prices for Selected Stocks:\")\n",
    "print(selected_stocks_prices)"
   ]
  },
  {
   "cell_type": "markdown",
   "id": "4ff919eb",
   "metadata": {},
   "source": [
    "3. **Accessing a Column:**\n",
    "\n",
    "To access a specific column, you can use indexing with the column index."
   ]
  },
  {
   "cell_type": "code",
   "execution_count": null,
   "id": "fc41ca8f",
   "metadata": {},
   "outputs": [],
   "source": [
    "# Access the closing prices for the 5th trading day (column index 4)\n",
    "day_5_prices = closing_prices[:, 4]\n",
    "print(\"Closing Prices for Day 5:\")\n",
    "print(day_5_prices)"
   ]
  },
  {
   "cell_type": "markdown",
   "id": "59fa3e7f",
   "metadata": {},
   "source": [
    "4. **Accessing Multiple Columns:**\n",
    "\n",
    "To access multiple columns, you can use slicing with column indices."
   ]
  },
  {
   "cell_type": "code",
   "execution_count": null,
   "id": "611a0b82",
   "metadata": {},
   "outputs": [],
   "source": [
    "# Access the closing prices for the 3rd, 5th, and 7th trading days (column indices 2, 4, and 6)\n",
    "selected_days_prices = closing_prices[:, [2, 4, 6]]\n",
    "print(\"Closing Prices for Selected Days:\")\n",
    "print(selected_days_prices)"
   ]
  },
  {
   "cell_type": "markdown",
   "id": "d0d6fa62",
   "metadata": {},
   "source": [
    "5. **Boolean Indexing Example:**\n",
    "\n",
    "Boolean indexing allows you to select specific rows based on a condition or criteria."
   ]
  },
  {
   "cell_type": "code",
   "execution_count": 52,
   "id": "4e8ef8c0",
   "metadata": {},
   "outputs": [
    {
     "name": "stdout",
     "output_type": "stream",
     "text": [
      "Closing Prices for High Price Stocks:\n",
      "[184 184 180 166]\n"
     ]
    }
   ],
   "source": [
    "# Access the closing prices for stocks with prices above 150\n",
    "high_price_stocks = closing_prices[closing_prices > 150]\n",
    "print(\"Closing Prices for High Price Stocks:\")\n",
    "print(high_price_stocks)"
   ]
  },
  {
   "cell_type": "markdown",
   "id": "b7923f42",
   "metadata": {},
   "source": [
    "6. **Array Indexing Example:**\n",
    "\n",
    "Array indexing can be used to extract specific data points based on given indices."
   ]
  },
  {
   "cell_type": "code",
   "execution_count": null,
   "id": "bb0cb859",
   "metadata": {},
   "outputs": [],
   "source": [
    "# Define the indices for the desired data points\n",
    "row_indices = np.array([0, 2, 4])\n",
    "column_indices = np.array([1, 5, 9])\n",
    "\n",
    "# Access the closing prices for the specified data points\n",
    "selected_prices = closing_prices[row_indices[:, np.newaxis], column_indices]\n",
    "print(\"Selected Closing Prices:\")\n",
    "print(selected_prices)"
   ]
  },
  {
   "cell_type": "markdown",
   "id": "8065cd22",
   "metadata": {},
   "source": [
    "These situations demonstrate how to access rows, multiple rows, columns, multiple columns, and how to use array indexing for rows and columns in NumPy arrays. By applying appropriate indexing techniques, you can extract and analyze specific subsets of data for further analysis or processing. <hr>"
   ]
  }
 ],
 "metadata": {
  "kernelspec": {
   "display_name": "Python 3 (ipykernel)",
   "language": "python",
   "name": "python3"
  },
  "language_info": {
   "codemirror_mode": {
    "name": "ipython",
    "version": 3
   },
   "file_extension": ".py",
   "mimetype": "text/x-python",
   "name": "python",
   "nbconvert_exporter": "python",
   "pygments_lexer": "ipython3",
   "version": "3.9.7"
  }
 },
 "nbformat": 4,
 "nbformat_minor": 5
}
