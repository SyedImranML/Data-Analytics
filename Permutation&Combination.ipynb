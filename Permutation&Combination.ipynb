{
  "nbformat": 4,
  "nbformat_minor": 0,
  "metadata": {
    "colab": {
      "provenance": [],
      "authorship_tag": "ABX9TyOo9pAeJ6oMzH4jEeFyq275",
      "include_colab_link": true
    },
    "kernelspec": {
      "name": "python3",
      "display_name": "Python 3"
    },
    "language_info": {
      "name": "python"
    }
  },
  "cells": [
    {
      "cell_type": "markdown",
      "metadata": {
        "id": "view-in-github",
        "colab_type": "text"
      },
      "source": [
        "<a href=\"https://colab.research.google.com/github/SyedImranML/Data-Analytics/blob/main/Permutation%26Combination.ipynb\" target=\"_parent\"><img src=\"https://colab.research.google.com/assets/colab-badge.svg\" alt=\"Open In Colab\"/></a>"
      ]
    },
    {
      "cell_type": "markdown",
      "source": [
        "Probability Permutation & Combination"
      ],
      "metadata": {
        "id": "hRb70iwBx_4U"
      }
    },
    {
      "cell_type": "markdown",
      "source": [
        "Permutation - with Length 2"
      ],
      "metadata": {
        "id": "7Y3SGM7oyH2m"
      }
    },
    {
      "cell_type": "code",
      "source": [
        "from itertools import permutations\n",
        "count=0\n",
        "data = [1,2 ,3]\n",
        "perm = permutations(data,2)\n",
        "for i in list(perm):\n",
        "  print(i)\n",
        "  count+=1\n",
        "print(\"Permutation count: \",count)"
      ],
      "metadata": {
        "colab": {
          "base_uri": "https://localhost:8080/"
        },
        "id": "rbBgRTHnyPYD",
        "outputId": "3a53f8bf-03e1-4008-a919-101c32a0f5a3"
      },
      "execution_count": 1,
      "outputs": [
        {
          "output_type": "stream",
          "name": "stdout",
          "text": [
            "(1, 2)\n",
            "(1, 3)\n",
            "(2, 1)\n",
            "(2, 3)\n",
            "(3, 1)\n",
            "(3, 2)\n",
            "Permutation count:  6\n"
          ]
        }
      ]
    },
    {
      "cell_type": "markdown",
      "source": [
        "Combination - with Length 2"
      ],
      "metadata": {
        "id": "gT_-yHj300sv"
      }
    },
    {
      "cell_type": "code",
      "source": [
        "from itertools import combinations\n",
        "count=0\n",
        "data = [1,2 ,3]\n",
        "data2 = [2,1,3]\n",
        "perm = combinations(data,2)\n",
        "for i in list(perm):\n",
        "  print(i)\n",
        "  count+=1\n",
        "print(\"cominations count: \",count)"
      ],
      "metadata": {
        "colab": {
          "base_uri": "https://localhost:8080/"
        },
        "id": "7u0Kcg7W2GwR",
        "outputId": "f9429c4e-0df8-4441-8fab-0b84a4a54fa6"
      },
      "execution_count": 2,
      "outputs": [
        {
          "output_type": "stream",
          "name": "stdout",
          "text": [
            "(1, 2)\n",
            "(1, 3)\n",
            "(2, 3)\n",
            "cominations count:  3\n"
          ]
        }
      ]
    },
    {
      "cell_type": "code",
      "source": [
        "from itertools import combinations\n",
        "count=0\n",
        "data = [1,2 ,3]\n",
        "data2 = [2,1,3]\n",
        "perm = combinations(data2,2)\n",
        "for i in list(perm):\n",
        "  print(i)\n",
        "  count+=1\n",
        "print(\"cominations count: \",count)"
      ],
      "metadata": {
        "colab": {
          "base_uri": "https://localhost:8080/"
        },
        "id": "JCtjzXWY2vuM",
        "outputId": "efacc414-b5e2-43de-9d8a-d13fb1aeadeb"
      },
      "execution_count": 3,
      "outputs": [
        {
          "output_type": "stream",
          "name": "stdout",
          "text": [
            "(2, 1)\n",
            "(2, 3)\n",
            "(1, 3)\n",
            "cominations count:  3\n"
          ]
        }
      ]
    },
    {
      "cell_type": "code",
      "source": [
        "from itertools import combinations_with_replacement as cr\n",
        "count=0\n",
        "data = [1,2 ,3]\n",
        "data2 = [2,1,3]\n",
        "perm = cr(data,2)\n",
        "for i in list(perm):\n",
        "  print(i)\n",
        "  count+=1\n",
        "print(\"cominations with Elements count: \",count)"
      ],
      "metadata": {
        "colab": {
          "base_uri": "https://localhost:8080/"
        },
        "id": "pGeHIVlR22Q1",
        "outputId": "9161233f-78b8-4009-a047-da93a783dd2f"
      },
      "execution_count": 4,
      "outputs": [
        {
          "output_type": "stream",
          "name": "stdout",
          "text": [
            "(1, 1)\n",
            "(1, 2)\n",
            "(1, 3)\n",
            "(2, 2)\n",
            "(2, 3)\n",
            "(3, 3)\n",
            "cominations with Elements count:  6\n"
          ]
        }
      ]
    }
  ]
}