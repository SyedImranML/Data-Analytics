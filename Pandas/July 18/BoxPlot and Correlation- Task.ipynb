{
 "cells": [
  {
   "cell_type": "code",
   "execution_count": 1,
   "metadata": {},
   "outputs": [],
   "source": [
    "# importing required libraries\n",
    "import seaborn as sns\n",
    "sns.set()\n",
    "sns.set(style=\"darkgrid\")\n",
    "\n",
    "\n",
    "import numpy as np\n",
    "import pandas as pd\n",
    "\n",
    "# importing matplotlib\n",
    "import matplotlib.pyplot as plt\n",
    "%matplotlib inline\n",
    "\n",
    "import warnings\n",
    "warnings.filterwarnings(\"ignore\")"
   ]
  },
  {
   "cell_type": "code",
   "execution_count": 2,
   "metadata": {},
   "outputs": [
    {
     "data": {
      "text/html": [
       "<div>\n",
       "<style scoped>\n",
       "    .dataframe tbody tr th:only-of-type {\n",
       "        vertical-align: middle;\n",
       "    }\n",
       "\n",
       "    .dataframe tbody tr th {\n",
       "        vertical-align: top;\n",
       "    }\n",
       "\n",
       "    .dataframe thead th {\n",
       "        text-align: right;\n",
       "    }\n",
       "</style>\n",
       "<table border=\"1\" class=\"dataframe\">\n",
       "  <thead>\n",
       "    <tr style=\"text-align: right;\">\n",
       "      <th></th>\n",
       "      <th>Item_Identifier</th>\n",
       "      <th>Item_Weight</th>\n",
       "      <th>Item_Fat_Content</th>\n",
       "      <th>Item_Visibility</th>\n",
       "      <th>Item_Type</th>\n",
       "      <th>Item_MRP</th>\n",
       "      <th>Outlet_Identifier</th>\n",
       "      <th>Outlet_Establishment_Year</th>\n",
       "      <th>Outlet_Size</th>\n",
       "      <th>Outlet_Location_Type</th>\n",
       "      <th>Outlet_Type</th>\n",
       "      <th>Item_Outlet_Sales</th>\n",
       "      <th>Visibility_Scaled</th>\n",
       "    </tr>\n",
       "  </thead>\n",
       "  <tbody>\n",
       "    <tr>\n",
       "      <th>0</th>\n",
       "      <td>FDA15</td>\n",
       "      <td>9.300</td>\n",
       "      <td>Low Fat</td>\n",
       "      <td>0.016047</td>\n",
       "      <td>Dairy</td>\n",
       "      <td>249.8092</td>\n",
       "      <td>OUT049</td>\n",
       "      <td>1999</td>\n",
       "      <td>Medium</td>\n",
       "      <td>Tier 1</td>\n",
       "      <td>Supermarket Type1</td>\n",
       "      <td>3735.1380</td>\n",
       "      <td>1.604730</td>\n",
       "    </tr>\n",
       "    <tr>\n",
       "      <th>1</th>\n",
       "      <td>DRC01</td>\n",
       "      <td>5.920</td>\n",
       "      <td>Regular</td>\n",
       "      <td>0.019278</td>\n",
       "      <td>Soft Drinks</td>\n",
       "      <td>48.2692</td>\n",
       "      <td>OUT018</td>\n",
       "      <td>2009</td>\n",
       "      <td>Medium</td>\n",
       "      <td>Tier 3</td>\n",
       "      <td>Supermarket Type2</td>\n",
       "      <td>443.4228</td>\n",
       "      <td>1.927822</td>\n",
       "    </tr>\n",
       "    <tr>\n",
       "      <th>2</th>\n",
       "      <td>FDN15</td>\n",
       "      <td>17.500</td>\n",
       "      <td>Low Fat</td>\n",
       "      <td>0.016760</td>\n",
       "      <td>Meat</td>\n",
       "      <td>141.6180</td>\n",
       "      <td>OUT049</td>\n",
       "      <td>1999</td>\n",
       "      <td>Medium</td>\n",
       "      <td>Tier 1</td>\n",
       "      <td>Supermarket Type1</td>\n",
       "      <td>2097.2700</td>\n",
       "      <td>1.676007</td>\n",
       "    </tr>\n",
       "    <tr>\n",
       "      <th>4</th>\n",
       "      <td>NCD19</td>\n",
       "      <td>8.930</td>\n",
       "      <td>Low Fat</td>\n",
       "      <td>0.000000</td>\n",
       "      <td>Household</td>\n",
       "      <td>53.8614</td>\n",
       "      <td>OUT013</td>\n",
       "      <td>1987</td>\n",
       "      <td>High</td>\n",
       "      <td>Tier 3</td>\n",
       "      <td>Supermarket Type1</td>\n",
       "      <td>994.7052</td>\n",
       "      <td>0.000000</td>\n",
       "    </tr>\n",
       "    <tr>\n",
       "      <th>5</th>\n",
       "      <td>FDP36</td>\n",
       "      <td>10.395</td>\n",
       "      <td>Regular</td>\n",
       "      <td>0.000000</td>\n",
       "      <td>Baking Goods</td>\n",
       "      <td>51.4008</td>\n",
       "      <td>OUT018</td>\n",
       "      <td>2009</td>\n",
       "      <td>Medium</td>\n",
       "      <td>Tier 3</td>\n",
       "      <td>Supermarket Type2</td>\n",
       "      <td>556.6088</td>\n",
       "      <td>0.000000</td>\n",
       "    </tr>\n",
       "  </tbody>\n",
       "</table>\n",
       "</div>"
      ],
      "text/plain": [
       "  Item_Identifier  Item_Weight Item_Fat_Content  Item_Visibility  \\\n",
       "0           FDA15        9.300          Low Fat         0.016047   \n",
       "1           DRC01        5.920          Regular         0.019278   \n",
       "2           FDN15       17.500          Low Fat         0.016760   \n",
       "4           NCD19        8.930          Low Fat         0.000000   \n",
       "5           FDP36       10.395          Regular         0.000000   \n",
       "\n",
       "      Item_Type  Item_MRP Outlet_Identifier  Outlet_Establishment_Year  \\\n",
       "0         Dairy  249.8092            OUT049                       1999   \n",
       "1   Soft Drinks   48.2692            OUT018                       2009   \n",
       "2          Meat  141.6180            OUT049                       1999   \n",
       "4     Household   53.8614            OUT013                       1987   \n",
       "5  Baking Goods   51.4008            OUT018                       2009   \n",
       "\n",
       "  Outlet_Size Outlet_Location_Type        Outlet_Type  Item_Outlet_Sales  \\\n",
       "0      Medium               Tier 1  Supermarket Type1          3735.1380   \n",
       "1      Medium               Tier 3  Supermarket Type2           443.4228   \n",
       "2      Medium               Tier 1  Supermarket Type1          2097.2700   \n",
       "4        High               Tier 3  Supermarket Type1           994.7052   \n",
       "5      Medium               Tier 3  Supermarket Type2           556.6088   \n",
       "\n",
       "   Visibility_Scaled  \n",
       "0           1.604730  \n",
       "1           1.927822  \n",
       "2           1.676007  \n",
       "4           0.000000  \n",
       "5           0.000000  "
      ]
     },
     "execution_count": 2,
     "metadata": {},
     "output_type": "execute_result"
    }
   ],
   "source": [
    "# read the dataset\n",
    "data_BM = pd.read_csv('bigmart_data.csv')\n",
    "# drop the null values\n",
    "data_BM = data_BM.dropna(how=\"any\")\n",
    "# multiply Item_Visibility by 100 to increase size\n",
    "data_BM[\"Visibility_Scaled\"] = data_BM[\"Item_Visibility\"] * 100\n",
    "# view the top results\n",
    "data_BM.head()"
   ]
  },
  {
   "cell_type": "code",
   "execution_count": 3,
   "metadata": {},
   "outputs": [
    {
     "data": {
      "text/plain": [
       "<AxesSubplot:xlabel='Item_Outlet_Sales'>"
      ]
     },
     "execution_count": 3,
     "metadata": {},
     "output_type": "execute_result"
    },
    {
     "data": {
      "image/png": "[encoded data removed]",
      "text/plain": [
       "<Figure size 432x288 with 1 Axes>"
      ]
     },
     "metadata": {
      "needs_background": "light"
     },
     "output_type": "display_data"
    }
   ],
   "source": [
    "sns.boxplot(data_BM['Item_Outlet_Sales'], orient='vertical')"
   ]
  },
  {
   "cell_type": "code",
   "execution_count": 4,
   "metadata": {},
   "outputs": [],
   "source": [
    "# Find Q1,Q3,Median, IQR, Upper_Fence, LowerFence\n",
    "# Perform capping on this column!"
   ]
  },
  {
   "cell_type": "code",
   "execution_count": 6,
   "metadata": {},
   "outputs": [],
   "source": [
    "# Calculate Q1 (25th percentile) and Q3 (75th percentile)\n",
    "Q1 = data_BM['Item_Outlet_Sales'].quantile(0.25)\n",
    "Q3 = data_BM['Item_Outlet_Sales'].quantile(0.75)\n",
    "\n",
    "# Calculate the Interquartile Range (IQR)\n",
    "IQR = Q3 - Q1\n",
    "\n",
    "# Calculate the Median\n",
    "Median = data_BM['Item_Outlet_Sales'].median()\n",
    "\n",
    "# Calculate the Upper and Lower fences for outliers (using 1.5*IQR rule for outliers)\n",
    "Upper_Fence = Q3 + 1.5 * IQR\n",
    "Lower_Fence = Q1 - 1.5 * IQR"
   ]
  },
  {
   "cell_type": "code",
   "execution_count": 7,
   "metadata": {},
   "outputs": [
    {
     "name": "stdout",
     "output_type": "stream",
     "text": [
      "Q1: 1125.202\n",
      "Q3: 3111.6163\n",
      "IQR: 1986.4143000000001\n",
      "Median: 1939.8083000000001\n",
      "Upper Fence: 6091.23775\n",
      "Lower Fence: -1854.41945\n"
     ]
    }
   ],
   "source": [
    "# Print these statistics\n",
    "print(f'Q1: {Q1}')\n",
    "print(f'Q3: {Q3}')\n",
    "print(f'IQR: {IQR}')\n",
    "print(f'Median: {Median}')\n",
    "print(f'Upper Fence: {Upper_Fence}')\n",
    "print(f'Lower Fence: {Lower_Fence}')\n",
    "\n",
    "# Perform capping\n",
    "data_BM['Item_Outlet_Sales'] = np.where(data_BM['Item_Outlet_Sales'] > Upper_Fence, Upper_Fence, \n",
    "                            (np.where(data_BM['Item_Outlet_Sales'] < Lower_Fence, \n",
    "                                      Lower_Fence, data_BM['Item_Outlet_Sales'])))"
   ]
  },
  {
   "cell_type": "code",
   "execution_count": 8,
   "metadata": {},
   "outputs": [
    {
     "data": {
      "text/plain": [
       "<AxesSubplot:xlabel='Item_Outlet_Sales'>"
      ]
     },
     "execution_count": 8,
     "metadata": {},
     "output_type": "execute_result"
    },
    {
     "data": {
      "image/png": "[encoded data removed]",
      "text/plain": [
       "<Figure size 432x288 with 1 Axes>"
      ]
     },
     "metadata": {
      "needs_background": "light"
     },
     "output_type": "display_data"
    }
   ],
   "source": [
    "sns.boxplot(data_BM['Item_Outlet_Sales'], orient='vertical')"
   ]
  },
  {
   "cell_type": "code",
   "execution_count": null,
   "metadata": {},
   "outputs": [],
   "source": [
    "# 20 columns"
   ]
  },
  {
   "cell_type": "code",
   "execution_count": 17,
   "metadata": {},
   "outputs": [],
   "source": [
    "corr = data_BM.corr()"
   ]
  },
  {
   "cell_type": "code",
   "execution_count": 18,
   "metadata": {},
   "outputs": [
    {
     "data": {
      "text/html": [
       "<div>\n",
       "<style scoped>\n",
       "    .dataframe tbody tr th:only-of-type {\n",
       "        vertical-align: middle;\n",
       "    }\n",
       "\n",
       "    .dataframe tbody tr th {\n",
       "        vertical-align: top;\n",
       "    }\n",
       "\n",
       "    .dataframe thead th {\n",
       "        text-align: right;\n",
       "    }\n",
       "</style>\n",
       "<table border=\"1\" class=\"dataframe\">\n",
       "  <thead>\n",
       "    <tr style=\"text-align: right;\">\n",
       "      <th></th>\n",
       "      <th>Item_Weight</th>\n",
       "      <th>Item_Visibility</th>\n",
       "      <th>Item_MRP</th>\n",
       "      <th>Outlet_Establishment_Year</th>\n",
       "      <th>Item_Outlet_Sales</th>\n",
       "      <th>Visibility_Scaled</th>\n",
       "    </tr>\n",
       "  </thead>\n",
       "  <tbody>\n",
       "    <tr>\n",
       "      <th>Item_Weight</th>\n",
       "      <td>1.000000</td>\n",
       "      <td>-0.010229</td>\n",
       "      <td>0.033330</td>\n",
       "      <td>-0.010596</td>\n",
       "      <td>0.011529</td>\n",
       "      <td>-0.010229</td>\n",
       "    </tr>\n",
       "    <tr>\n",
       "      <th>Item_Visibility</th>\n",
       "      <td>-0.010229</td>\n",
       "      <td>1.000000</td>\n",
       "      <td>-0.007292</td>\n",
       "      <td>0.009324</td>\n",
       "      <td>-0.008655</td>\n",
       "      <td>1.000000</td>\n",
       "    </tr>\n",
       "    <tr>\n",
       "      <th>Item_MRP</th>\n",
       "      <td>0.033330</td>\n",
       "      <td>-0.007292</td>\n",
       "      <td>1.000000</td>\n",
       "      <td>0.004105</td>\n",
       "      <td>0.686533</td>\n",
       "      <td>-0.007292</td>\n",
       "    </tr>\n",
       "    <tr>\n",
       "      <th>Outlet_Establishment_Year</th>\n",
       "      <td>-0.010596</td>\n",
       "      <td>0.009324</td>\n",
       "      <td>0.004105</td>\n",
       "      <td>1.000000</td>\n",
       "      <td>-0.039302</td>\n",
       "      <td>0.009324</td>\n",
       "    </tr>\n",
       "    <tr>\n",
       "      <th>Item_Outlet_Sales</th>\n",
       "      <td>0.011529</td>\n",
       "      <td>-0.008655</td>\n",
       "      <td>0.686533</td>\n",
       "      <td>-0.039302</td>\n",
       "      <td>1.000000</td>\n",
       "      <td>-0.008655</td>\n",
       "    </tr>\n",
       "    <tr>\n",
       "      <th>Visibility_Scaled</th>\n",
       "      <td>-0.010229</td>\n",
       "      <td>1.000000</td>\n",
       "      <td>-0.007292</td>\n",
       "      <td>0.009324</td>\n",
       "      <td>-0.008655</td>\n",
       "      <td>1.000000</td>\n",
       "    </tr>\n",
       "  </tbody>\n",
       "</table>\n",
       "</div>"
      ],
      "text/plain": [
       "                           Item_Weight  Item_Visibility  Item_MRP  \\\n",
       "Item_Weight                   1.000000        -0.010229  0.033330   \n",
       "Item_Visibility              -0.010229         1.000000 -0.007292   \n",
       "Item_MRP                      0.033330        -0.007292  1.000000   \n",
       "Outlet_Establishment_Year    -0.010596         0.009324  0.004105   \n",
       "Item_Outlet_Sales             0.011529        -0.008655  0.686533   \n",
       "Visibility_Scaled            -0.010229         1.000000 -0.007292   \n",
       "\n",
       "                           Outlet_Establishment_Year  Item_Outlet_Sales  \\\n",
       "Item_Weight                                -0.010596           0.011529   \n",
       "Item_Visibility                             0.009324          -0.008655   \n",
       "Item_MRP                                    0.004105           0.686533   \n",
       "Outlet_Establishment_Year                   1.000000          -0.039302   \n",
       "Item_Outlet_Sales                          -0.039302           1.000000   \n",
       "Visibility_Scaled                           0.009324          -0.008655   \n",
       "\n",
       "                           Visibility_Scaled  \n",
       "Item_Weight                        -0.010229  \n",
       "Item_Visibility                     1.000000  \n",
       "Item_MRP                           -0.007292  \n",
       "Outlet_Establishment_Year           0.009324  \n",
       "Item_Outlet_Sales                  -0.008655  \n",
       "Visibility_Scaled                   1.000000  "
      ]
     },
     "execution_count": 18,
     "metadata": {},
     "output_type": "execute_result"
    }
   ],
   "source": [
    "corr"
   ]
  },
  {
   "cell_type": "code",
   "execution_count": null,
   "metadata": {},
   "outputs": [],
   "source": [
    "# heatmap!"
   ]
  },
  {
   "cell_type": "code",
   "execution_count": 23,
   "metadata": {},
   "outputs": [
    {
     "data": {
      "text/plain": [
       "<AxesSubplot:>"
      ]
     },
     "execution_count": 23,
     "metadata": {},
     "output_type": "execute_result"
    },
    {
     "data": {
      "image/png": "[encoded data removed]",
      "text/plain": [
       "<Figure size 432x288 with 2 Axes>"
      ]
     },
     "metadata": {
      "needs_background": "light"
     },
     "output_type": "display_data"
    }
   ],
   "source": [
    "sns.heatmap(corr, annot = True,cmap = 'coolwarm')"
   ]
  },
  {
   "cell_type": "code",
   "execution_count": null,
   "metadata": {},
   "outputs": [],
   "source": []
  }
 ],
 "metadata": {
  "kernelspec": {
   "display_name": "Python 3 (ipykernel)",
   "language": "python",
   "name": "python3"
  },
  "language_info": {
   "codemirror_mode": {
    "name": "ipython",
    "version": 3
   },
   "file_extension": ".py",
   "mimetype": "text/x-python",
   "name": "python",
   "nbconvert_exporter": "python",
   "pygments_lexer": "ipython3",
   "version": "3.9.7"
  }
 },
 "nbformat": 4,
 "nbformat_minor": 2
}
