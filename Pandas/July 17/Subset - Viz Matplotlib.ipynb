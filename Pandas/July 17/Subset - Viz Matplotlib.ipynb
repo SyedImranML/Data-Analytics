{
 "cells": [
  {
   "cell_type": "code",
   "execution_count": null,
   "metadata": {},
   "outputs": [],
   "source": [
    "# importing required libraries\n",
    "import numpy as np\n",
    "import pandas as pd\n",
    "\n",
    "# importing matplotlib\n",
    "import matplotlib.pyplot as plt\n",
    "\n",
    "# display plots in the notebook itself\n",
    "%matplotlib inline"
   ]
  },
  {
   "cell_type": "markdown",
   "metadata": {},
   "source": [
    "### Load dataset\n",
    "Let's load a dataset and have a look at first 5 rows."
   ]
  },
  {
   "cell_type": "code",
   "execution_count": null,
   "metadata": {},
   "outputs": [],
   "source": [
    "# read the dataset\n",
    "data_BM = pd.read_csv('bigmart_data.csv')\n",
    "# drop the null values\n",
    "data_BM = data_BM.dropna(how=\"any\")\n",
    "# view the top results\n",
    "data_BM.head()"
   ]
  },
  {
   "cell_type": "code",
   "execution_count": null,
   "metadata": {},
   "outputs": [],
   "source": [
    "data_BM.shape"
   ]
  },
  {
   "cell_type": "markdown",
   "metadata": {},
   "source": [
    "### 3. Line Chart\n",
    "\n",
    "- We will create a line chart to denote the **mean price per item**. Let's have a look at the code.\n",
    "- With some datasets, you may want to understand changes in one variable as a function of time, or a similarly continuous variable.\n",
    "- In matplotlib, **line chart** is the default plot when using the `plot()`. "
   ]
  },
  {
   "cell_type": "code",
   "execution_count": null,
   "metadata": {},
   "outputs": [],
   "source": [
    "# mean price based on item type\n",
    "price_by_item = data_BM.groupby('Item_Type').Item_MRP.mean()[:10]\n",
    "price_by_item\n",
    "\n",
    "x = price_by_item.index.tolist()\n",
    "y = price_by_item.values.tolist()\n",
    "\n",
    "# set figure size\n",
    "plt.figure(figsize=(5, 2))\n",
    "\n",
    "# set title\n",
    "plt.title('Mean price for each item type')\n",
    "\n",
    "# set axis labels\n",
    "plt.xlabel('Item Type')\n",
    "plt.ylabel('Mean Price')\n",
    "\n",
    "plt.plot(x, y)"
   ]
  },
  {
   "cell_type": "markdown",
   "metadata": {},
   "source": [
    "###  4. Bar Chart\n",
    "\n",
    "- Suppose we want to have a look at **what is the mean sales for each outlet type?** \n",
    "- A bar chart is another simple type of visualization that is used for categorical variables.\n",
    "- You can use `plt.bar()` instead of `plt.plot()` to create a bar chart.\n"
   ]
  },
  {
   "cell_type": "code",
   "execution_count": null,
   "metadata": {},
   "outputs": [],
   "source": [
    "# sales by outlet size\n",
    "sales_by_outlet_size = data_BM.groupby('Outlet_Size').Item_Outlet_Sales.mean()\n",
    "sales_by_outlet_size"
   ]
  },
  {
   "cell_type": "code",
   "execution_count": null,
   "metadata": {},
   "outputs": [],
   "source": [
    "# sort by sales\n",
    "sales_by_outlet_size.sort_values(inplace=True)\n",
    "x = sales_by_outlet_size.index.tolist()\n",
    "y = sales_by_outlet_size.values.tolist()"
   ]
  },
  {
   "cell_type": "code",
   "execution_count": null,
   "metadata": {},
   "outputs": [],
   "source": [
    "# set axis labels\n",
    "plt.xlabel('Outlet Size')\n",
    "plt.ylabel('Sales')\n",
    "\n",
    "# set title\n",
    "plt.title('Mean sales for each outlet type')\n",
    "\n",
    "\n",
    "plt.bar(x, y, color=['red','yellow','green'])"
   ]
  },
  {
   "cell_type": "code",
   "execution_count": null,
   "metadata": {},
   "outputs": [],
   "source": []
  },
  {
   "cell_type": "markdown",
   "metadata": {},
   "source": [
    "### 5. Histogram\n",
    "\n",
    "- **Distribution of Item price**\n",
    "- Histograms are a very common type of plots when we are looking at data like height and weight, stock prices, waiting time for a customer, etc which are continuous in nature. \n",
    "- Histogram’s data is plotted within a range against its frequency. \n",
    "- Histograms are very commonly occurring graphs in probability and statistics and form the basis for various distributions like the normal -distribution, t-distribution, etc.\n",
    "- You can use `plt.hist()` to draw a histogram. It provides many parameters to adjust the plot, you can [explore more here](https://matplotlib.org/3.1.0/api/_as_gen/matplotlib.pyplot.hist.html)."
   ]
  },
  {
   "cell_type": "code",
   "execution_count": null,
   "metadata": {
    "scrolled": true
   },
   "outputs": [],
   "source": [
    "# title\n",
    "plt.title('Item MRP (price) distribution')\n",
    "\n",
    "# xlabel\n",
    "plt.xlabel('Item_MRP')\n",
    "\n",
    "# ylabel\n",
    "plt.ylabel('Frequency')\n",
    "\n",
    "# plot histogram\n",
    "plt.hist(data_BM['Item_MRP'], bins=3, color='lightblue');"
   ]
  },
  {
   "cell_type": "code",
   "execution_count": null,
   "metadata": {},
   "outputs": [],
   "source": []
  },
  {
   "cell_type": "code",
   "execution_count": null,
   "metadata": {},
   "outputs": [],
   "source": []
  },
  {
   "cell_type": "code",
   "execution_count": null,
   "metadata": {},
   "outputs": [],
   "source": []
  }
 ],
 "metadata": {
  "kernelspec": {
   "display_name": "Python 3 (ipykernel)",
   "language": "python",
   "name": "python3"
  },
  "language_info": {
   "codemirror_mode": {
    "name": "ipython",
    "version": 3
   },
   "file_extension": ".py",
   "mimetype": "text/x-python",
   "name": "python",
   "nbconvert_exporter": "python",
   "pygments_lexer": "ipython3",
   "version": "3.9.7"
  }
 },
 "nbformat": 4,
 "nbformat_minor": 2
}
