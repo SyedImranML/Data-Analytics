{
 "cells": [
  {
   "cell_type": "code",
   "execution_count": null,
   "id": "5c91276e",
   "metadata": {},
   "outputs": [],
   "source": [
    "# Step 1: Importing Libraries and Reading the Data\n",
    "# Question 1.1: Import the necessary libraries for data manipulation and visualization."
   ]
  },
  {
   "cell_type": "code",
   "execution_count": null,
   "id": "197e8793",
   "metadata": {},
   "outputs": [],
   "source": [
    "# Question 1.2: Load the dataset from the train.csv file into a pandas DataFrame and display:\n",
    "# first five rows.\n",
    "# last 5 rows\n",
    "# summary\n",
    "# info\n",
    "# datatype\n"
   ]
  },
  {
   "cell_type": "code",
   "execution_count": null,
   "id": "dea8d31e",
   "metadata": {},
   "outputs": [],
   "source": [
    "# Question 2.1: Check for missing values % in the dataset.\n",
    "\n"
   ]
  },
  {
   "cell_type": "code",
   "execution_count": null,
   "id": "b4b2afd3",
   "metadata": {},
   "outputs": [],
   "source": [
    "# Question 2.2: For the columns with missing values, fill the missing values with an appropriate strategy. \n",
    "# Here, fill numerical columns with the mean of the column, and categorical columns with the mode.\n",
    "# Also drop columns having missing values > 50%\n"
   ]
  },
  {
   "cell_type": "code",
   "execution_count": null,
   "id": "c955a7c0",
   "metadata": {},
   "outputs": [],
   "source": [
    "# Question 3.1: Check for outliers in the 'Purchase' column using a boxplot.\n"
   ]
  },
  {
   "cell_type": "code",
   "execution_count": null,
   "id": "72852c21",
   "metadata": {},
   "outputs": [],
   "source": [
    "# Question 3.2: Remove outliers in the 'Purchase' based on upper fence and lower fence\n"
   ]
  },
  {
   "cell_type": "code",
   "execution_count": null,
   "id": "d79181fa",
   "metadata": {},
   "outputs": [],
   "source": [
    "# Question 4.1: Plot a histogram of the 'Purchase' column to visualize its distribution. \n"
   ]
  },
  {
   "cell_type": "code",
   "execution_count": null,
   "id": "26078da6",
   "metadata": {},
   "outputs": [],
   "source": [
    "# Question 4.2: Create a bar plot to show the count of each category in the 'Gender' column.\n"
   ]
  },
  {
   "cell_type": "code",
   "execution_count": null,
   "id": "4ba21f6d",
   "metadata": {},
   "outputs": [],
   "source": [
    "# Question 4.3: Using matplotlib, create a scatter plot between 'Occupation' and 'Purchase' to \n",
    "# visualize any possible relationships.\n"
   ]
  },
  {
   "cell_type": "code",
   "execution_count": null,
   "id": "6f2ac1c1",
   "metadata": {},
   "outputs": [],
   "source": [
    "# Question 4.4: Using matplotlib, create a histogram of the 'Occupation' column to \n",
    "# visualize the distribution of different occupations.\n"
   ]
  },
  {
   "cell_type": "code",
   "execution_count": null,
   "id": "5b67d599",
   "metadata": {},
   "outputs": [],
   "source": [
    "# Question 4.5: Using matplotlib, \n",
    "# create a bar chart to compare the average 'Purchase' across different 'City_Category'.\n"
   ]
  },
  {
   "cell_type": "code",
   "execution_count": null,
   "id": "c96f4c76",
   "metadata": {},
   "outputs": [],
   "source": [
    "# Find correlation, use heatmap, show annotations\n",
    "# Compute the correlation matrix\n"
   ]
  },
  {
   "cell_type": "code",
   "execution_count": null,
   "id": "86b86acf",
   "metadata": {},
   "outputs": [],
   "source": []
  },
  {
   "cell_type": "code",
   "execution_count": null,
   "id": "7ad1984b",
   "metadata": {},
   "outputs": [],
   "source": []
  }
 ],
 "metadata": {
  "kernelspec": {
   "display_name": "Python 3 (ipykernel)",
   "language": "python",
   "name": "python3"
  },
  "language_info": {
   "codemirror_mode": {
    "name": "ipython",
    "version": 3
   },
   "file_extension": ".py",
   "mimetype": "text/x-python",
   "name": "python",
   "nbconvert_exporter": "python",
   "pygments_lexer": "ipython3",
   "version": "3.9.7"
  }
 },
 "nbformat": 4,
 "nbformat_minor": 5
}
