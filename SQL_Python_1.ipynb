{
  "nbformat": 4,
  "nbformat_minor": 0,
  "metadata": {
    "colab": {
      "provenance": [],
      "authorship_tag": "ABX9TyPlu+wuJb2z0hCg6VP6hNuJ",
      "include_colab_link": true
    },
    "kernelspec": {
      "name": "python3",
      "display_name": "Python 3"
    },
    "language_info": {
      "name": "python"
    }
  },
  "cells": [
    {
      "cell_type": "markdown",
      "metadata": {
        "id": "view-in-github",
        "colab_type": "text"
      },
      "source": [
        "<a href=\"https://colab.research.google.com/github/SyedImranML/Data-Analytics/blob/main/SQL_Python_1.ipynb\" target=\"_parent\"><img src=\"https://colab.research.google.com/assets/colab-badge.svg\" alt=\"Open In Colab\"/></a>"
      ]
    },
    {
      "cell_type": "markdown",
      "source": [
        "**SQL Python**"
      ],
      "metadata": {
        "id": "BxCAmITO_Q7a"
      }
    },
    {
      "cell_type": "markdown",
      "source": [
        "PandaSQL"
      ],
      "metadata": {
        "id": "9-fMXt_N_e06"
      }
    },
    {
      "cell_type": "code",
      "source": [
        "!pip install pandasql"
      ],
      "metadata": {
        "colab": {
          "base_uri": "https://localhost:8080/"
        },
        "id": "CSYXgsTT_jmZ",
        "outputId": "52ea084c-f9a2-4b47-eb31-2b01beb3b977"
      },
      "execution_count": 1,
      "outputs": [
        {
          "output_type": "stream",
          "name": "stdout",
          "text": [
            "Looking in indexes: https://pypi.org/simple, https://us-python.pkg.dev/colab-wheels/public/simple/\n",
            "Collecting pandasql\n",
            "  Downloading pandasql-0.7.3.tar.gz (26 kB)\n",
            "Requirement already satisfied: numpy in /usr/local/lib/python3.7/dist-packages (from pandasql) (1.21.6)\n",
            "Requirement already satisfied: pandas in /usr/local/lib/python3.7/dist-packages (from pandasql) (1.3.5)\n",
            "Requirement already satisfied: sqlalchemy in /usr/local/lib/python3.7/dist-packages (from pandasql) (1.4.41)\n",
            "Requirement already satisfied: pytz>=2017.3 in /usr/local/lib/python3.7/dist-packages (from pandas->pandasql) (2022.2.1)\n",
            "Requirement already satisfied: python-dateutil>=2.7.3 in /usr/local/lib/python3.7/dist-packages (from pandas->pandasql) (2.8.2)\n",
            "Requirement already satisfied: six>=1.5 in /usr/local/lib/python3.7/dist-packages (from python-dateutil>=2.7.3->pandas->pandasql) (1.15.0)\n",
            "Requirement already satisfied: importlib-metadata in /usr/local/lib/python3.7/dist-packages (from sqlalchemy->pandasql) (4.12.0)\n",
            "Requirement already satisfied: greenlet!=0.4.17 in /usr/local/lib/python3.7/dist-packages (from sqlalchemy->pandasql) (1.1.3)\n",
            "Requirement already satisfied: typing-extensions>=3.6.4 in /usr/local/lib/python3.7/dist-packages (from importlib-metadata->sqlalchemy->pandasql) (4.1.1)\n",
            "Requirement already satisfied: zipp>=0.5 in /usr/local/lib/python3.7/dist-packages (from importlib-metadata->sqlalchemy->pandasql) (3.8.1)\n",
            "Building wheels for collected packages: pandasql\n",
            "  Building wheel for pandasql (setup.py) ... \u001b[?25l\u001b[?25hdone\n",
            "  Created wheel for pandasql: filename=pandasql-0.7.3-py3-none-any.whl size=26784 sha256=1ae862837000d2a0cd43f1c84087c49a45fa7c723a75e9b3d6ee14d371583d7b\n",
            "  Stored in directory: /root/.cache/pip/wheels/5c/4b/ec/41f4e116c8053c3654e2c2a47c62b4fca34cc67ef7b55deb7f\n",
            "Successfully built pandasql\n",
            "Installing collected packages: pandasql\n",
            "Successfully installed pandasql-0.7.3\n"
          ]
        }
      ]
    },
    {
      "cell_type": "markdown",
      "source": [
        "**Importing Libraries**"
      ],
      "metadata": {
        "id": "NqG05Uus_wMt"
      }
    },
    {
      "cell_type": "code",
      "source": [
        "import pandas as pd\n",
        "from pandasql import sqldf\n",
        "from pandasql import load_births"
      ],
      "metadata": {
        "id": "4zPHf3CB_37B"
      },
      "execution_count": 2,
      "outputs": []
    },
    {
      "cell_type": "markdown",
      "source": [
        "**load Dataset**"
      ],
      "metadata": {
        "id": "Ni3SUGoxAqSi"
      }
    },
    {
      "cell_type": "code",
      "source": [
        "births =load_births()\n",
        "print(births)"
      ],
      "metadata": {
        "colab": {
          "base_uri": "https://localhost:8080/"
        },
        "id": "2nUwq_ShAvKH",
        "outputId": "a19e2c7f-c9ca-4e90-c9c0-40d7776ef841"
      },
      "execution_count": 4,
      "outputs": [
        {
          "output_type": "stream",
          "name": "stdout",
          "text": [
            "          date  births\n",
            "0   1975-01-01  265775\n",
            "1   1975-02-01  241045\n",
            "2   1975-03-01  268849\n",
            "3   1975-04-01  247455\n",
            "4   1975-05-01  254545\n",
            "..         ...     ...\n",
            "403 2012-08-01  359554\n",
            "404 2012-09-01  361922\n",
            "405 2012-10-01  347625\n",
            "406 2012-11-01  320195\n",
            "407 2012-12-01  340995\n",
            "\n",
            "[408 rows x 2 columns]\n"
          ]
        }
      ]
    },
    {
      "cell_type": "markdown",
      "source": [
        "**SQL in Python**"
      ],
      "metadata": {
        "id": "C5BDdtlPA8hn"
      }
    },
    {
      "cell_type": "code",
      "source": [
        "cmd=\"select * from births where births > 200000 limit 5;\"\n",
        "print(sqldf(cmd,locals()))"
      ],
      "metadata": {
        "colab": {
          "base_uri": "https://localhost:8080/"
        },
        "id": "IUVGkikMBBTA",
        "outputId": "e4939087-e480-4266-bfda-474a8ee1750e"
      },
      "execution_count": 6,
      "outputs": [
        {
          "output_type": "stream",
          "name": "stdout",
          "text": [
            "                         date  births\n",
            "0  1975-01-01 00:00:00.000000  265775\n",
            "1  1975-02-01 00:00:00.000000  241045\n",
            "2  1975-03-01 00:00:00.000000  268849\n",
            "3  1975-04-01 00:00:00.000000  247455\n",
            "4  1975-05-01 00:00:00.000000  254545\n"
          ]
        }
      ]
    },
    {
      "cell_type": "code",
      "source": [
        "cmd=\"select * from births where births > 300000 limit 10;\"\n",
        "print(sqldf(cmd,locals()))"
      ],
      "metadata": {
        "colab": {
          "base_uri": "https://localhost:8080/"
        },
        "id": "YRNliLw9BsZ4",
        "outputId": "e831778c-779e-460b-b47b-06f9294c4bef"
      },
      "execution_count": 7,
      "outputs": [
        {
          "output_type": "stream",
          "name": "stdout",
          "text": [
            "                         date  births\n",
            "0  1979-08-01 00:00:00.000000  302805\n",
            "1  1982-07-01 00:00:00.000000  321836\n",
            "2  1982-08-01 00:00:00.000000  323129\n",
            "3  1982-09-01 00:00:00.000000  320536\n",
            "4  1982-10-01 00:00:00.000000  311312\n",
            "5  1982-12-01 00:00:00.000000  303101\n",
            "6  1983-01-01 00:00:00.000000  311000\n",
            "7  1983-03-01 00:00:00.000000  301691\n",
            "8  1983-05-01 00:00:00.000000  305000\n",
            "9  1983-06-01 00:00:00.000000  302000\n"
          ]
        }
      ]
    },
    {
      "cell_type": "markdown",
      "source": [
        "**SQL3LITE**"
      ],
      "metadata": {
        "id": "DWrdEJa7B0Wx"
      }
    },
    {
      "cell_type": "markdown",
      "source": [
        "Importing Library"
      ],
      "metadata": {
        "id": "f_uiIQusB6TO"
      }
    },
    {
      "cell_type": "code",
      "source": [
        "import sqlite3"
      ],
      "metadata": {
        "id": "WNVeQhNqBwQ1"
      },
      "execution_count": 4,
      "outputs": []
    },
    {
      "cell_type": "markdown",
      "source": [
        "Load Dataset"
      ],
      "metadata": {
        "id": "LNnRl2wICDqH"
      }
    },
    {
      "cell_type": "code",
      "source": [
        "conn = sqlite3.connect('dataset.bd')\n",
        "print(conn)"
      ],
      "metadata": {
        "colab": {
          "base_uri": "https://localhost:8080/"
        },
        "id": "U3_78rBLCImL",
        "outputId": "d64c01a0-6d24-41ca-d0cd-fe12f4c6dd7d"
      },
      "execution_count": 5,
      "outputs": [
        {
          "output_type": "stream",
          "name": "stdout",
          "text": [
            "<sqlite3.Connection object at 0x7fc65e04a570>\n"
          ]
        }
      ]
    },
    {
      "cell_type": "code",
      "source": [
        "cur = conn.cursor()"
      ],
      "metadata": {
        "id": "ZPtvKqquCt1V"
      },
      "execution_count": 6,
      "outputs": []
    },
    {
      "cell_type": "code",
      "source": [
        "cur.execute(\"CREATE TABLE movie(title, year, score)\")"
      ],
      "metadata": {
        "colab": {
          "base_uri": "https://localhost:8080/",
          "height": 165
        },
        "id": "wqxiqGfWDcu2",
        "outputId": "b0010a8d-bf13-4fcf-a03c-b25335c226de"
      },
      "execution_count": 7,
      "outputs": [
        {
          "output_type": "error",
          "ename": "OperationalError",
          "evalue": "ignored",
          "traceback": [
            "\u001b[0;31m---------------------------------------------------------------------------\u001b[0m",
            "\u001b[0;31mOperationalError\u001b[0m                          Traceback (most recent call last)",
            "\u001b[0;32m<ipython-input-7-e44df8b9ce50>\u001b[0m in \u001b[0;36m<module>\u001b[0;34m\u001b[0m\n\u001b[0;32m----> 1\u001b[0;31m \u001b[0mcur\u001b[0m\u001b[0;34m.\u001b[0m\u001b[0mexecute\u001b[0m\u001b[0;34m(\u001b[0m\u001b[0;34m\"CREATE TABLE movie(title, year, score)\"\u001b[0m\u001b[0;34m)\u001b[0m\u001b[0;34m\u001b[0m\u001b[0;34m\u001b[0m\u001b[0m\n\u001b[0m",
            "\u001b[0;31mOperationalError\u001b[0m: table movie already exists"
          ]
        }
      ]
    },
    {
      "cell_type": "code",
      "source": [
        "res = cur.execute(\"SELECT name FROM sqlite_master\")\n",
        "res.fetchone()"
      ],
      "metadata": {
        "colab": {
          "base_uri": "https://localhost:8080/"
        },
        "id": "dvBV-cV1DryB",
        "outputId": "5ecb0cf5-274d-4ae3-817d-b5e287591c66"
      },
      "execution_count": 8,
      "outputs": [
        {
          "output_type": "execute_result",
          "data": {
            "text/plain": [
              "('movie',)"
            ]
          },
          "metadata": {},
          "execution_count": 8
        }
      ]
    },
    {
      "cell_type": "code",
      "source": [
        "cur.execute(\"\"\"\n",
        "    INSERT INTO movie VALUES\n",
        "        ('Monty Python and the Holy Grail', 1975, 8.2),\n",
        "        ('And Now for Something Completely Different', 1971, 7.5)\n",
        "\"\"\")"
      ],
      "metadata": {
        "colab": {
          "base_uri": "https://localhost:8080/"
        },
        "id": "ics4Z08LEFQ_",
        "outputId": "8e527a67-5305-41dc-e58a-134b29946301"
      },
      "execution_count": 9,
      "outputs": [
        {
          "output_type": "execute_result",
          "data": {
            "text/plain": [
              "<sqlite3.Cursor at 0x7fc65a45d3b0>"
            ]
          },
          "metadata": {},
          "execution_count": 9
        }
      ]
    },
    {
      "cell_type": "code",
      "source": [
        "conn.commit()"
      ],
      "metadata": {
        "id": "JLl4Yi15EOZ6"
      },
      "execution_count": 10,
      "outputs": []
    },
    {
      "cell_type": "code",
      "source": [
        " res = cur.execute(\"SELECT score FROM movie\")"
      ],
      "metadata": {
        "id": "g_v3wn8AEYD6"
      },
      "execution_count": 11,
      "outputs": []
    },
    {
      "cell_type": "code",
      "source": [
        "res.fetchall()"
      ],
      "metadata": {
        "colab": {
          "base_uri": "https://localhost:8080/"
        },
        "id": "j1psDQFOEsUb",
        "outputId": "2c5b8199-01bf-46bd-82a7-3869120a0975"
      },
      "execution_count": 12,
      "outputs": [
        {
          "output_type": "execute_result",
          "data": {
            "text/plain": [
              "[(8.2,), (7.5,), (8.2,), (7.5,)]"
            ]
          },
          "metadata": {},
          "execution_count": 12
        }
      ]
    },
    {
      "cell_type": "code",
      "source": [
        "res = cur.execute(\"SELECT * FROM movie\")"
      ],
      "metadata": {
        "id": "jHtxhxSpE6t3"
      },
      "execution_count": 13,
      "outputs": []
    },
    {
      "cell_type": "code",
      "source": [
        "res.fetchall()"
      ],
      "metadata": {
        "colab": {
          "base_uri": "https://localhost:8080/"
        },
        "id": "pV4qszzZE-lQ",
        "outputId": "d94e0915-9f47-43e4-9457-b97d42af99a7"
      },
      "execution_count": 14,
      "outputs": [
        {
          "output_type": "execute_result",
          "data": {
            "text/plain": [
              "[('Monty Python and the Holy Grail', 1975, 8.2),\n",
              " ('And Now for Something Completely Different', 1971, 7.5),\n",
              " ('Monty Python and the Holy Grail', 1975, 8.2),\n",
              " ('And Now for Something Completely Different', 1971, 7.5)]"
            ]
          },
          "metadata": {},
          "execution_count": 14
        }
      ]
    },
    {
      "cell_type": "code",
      "source": [
        "for row in cur.execute(\"SELECT year, title FROM movie ORDER BY year\"):\n",
        "    print(row)"
      ],
      "metadata": {
        "colab": {
          "base_uri": "https://localhost:8080/"
        },
        "id": "gyBS4n6ZF-3E",
        "outputId": "07763338-2376-4ddd-a466-a221bd8ac5d8"
      },
      "execution_count": 15,
      "outputs": [
        {
          "output_type": "stream",
          "name": "stdout",
          "text": [
            "(1971, 'And Now for Something Completely Different')\n",
            "(1971, 'And Now for Something Completely Different')\n",
            "(1975, 'Monty Python and the Holy Grail')\n",
            "(1975, 'Monty Python and the Holy Grail')\n"
          ]
        }
      ]
    },
    {
      "cell_type": "code",
      "source": [
        "data = [\n",
        "    (\"Monty Python Live at the Hollywood Bowl\", 1982, 7.9),\n",
        "    (\"Monty Python's The Meaning of Life\", 1983, 7.5),\n",
        "    (\"Monty Python's Life of Brian\", 1979, 8.0),\n",
        "]\n",
        "cur.executemany(\"INSERT INTO movie VALUES(?, ?, ?)\", data)\n",
        "conn.commit()  # Remember to commit the transaction after executing INSERT."
      ],
      "metadata": {
        "id": "OFez6NEuGNLs"
      },
      "execution_count": 16,
      "outputs": []
    },
    {
      "cell_type": "code",
      "source": [
        "for row in cur.execute(\"SELECT year, title FROM movie ORDER BY year\"):\n",
        "       print(row)"
      ],
      "metadata": {
        "colab": {
          "base_uri": "https://localhost:8080/"
        },
        "id": "qCKbonVQHssv",
        "outputId": "6700fce6-0531-48cf-8dbf-f4d66be81c03"
      },
      "execution_count": 17,
      "outputs": [
        {
          "output_type": "stream",
          "name": "stdout",
          "text": [
            "(1971, 'And Now for Something Completely Different')\n",
            "(1971, 'And Now for Something Completely Different')\n",
            "(1975, 'Monty Python and the Holy Grail')\n",
            "(1975, 'Monty Python and the Holy Grail')\n",
            "(1979, \"Monty Python's Life of Brian\")\n",
            "(1982, 'Monty Python Live at the Hollywood Bowl')\n",
            "(1983, \"Monty Python's The Meaning of Life\")\n"
          ]
        }
      ]
    }
  ]
}