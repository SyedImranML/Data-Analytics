{
  "cells": [
    {
      "cell_type": "markdown",
      "metadata": {
        "id": "view-in-github",
        "colab_type": "text"
      },
      "source": [
        "<a href=\"https://colab.research.google.com/github/SyedImranML/Data-Analytics/blob/main/Student_Notes_3.ipynb\" target=\"_parent\"><img src=\"https://colab.research.google.com/assets/colab-badge.svg\" alt=\"Open In Colab\"/></a>"
      ]
    },
    {
      "cell_type": "markdown",
      "id": "16d612c1",
      "metadata": {
        "id": "16d612c1"
      },
      "source": [
        "## Lecture 03 - Accessing Elements\n",
        "\n",
        "Once we have put the data in Numpy Arrays, obviously we should be able to read/access the data. If we can't retreive the data back, there is no point in storing it at first place.\n",
        "\n",
        "In Numpy, there are three ways to access the data, which we will see in detail in the upcoming sections.\n",
        "1. **Basic Indexing and Slicing**\n",
        "2. **Boolean Indexing/Masking**\n",
        "3. **Array Indexing/Fancy Indexing**\n",
        "\n",
        "So, let's jump into these topics."
      ]
    },
    {
      "cell_type": "markdown",
      "id": "a6bd283a",
      "metadata": {
        "id": "a6bd283a"
      },
      "source": [
        "### 03.1 - Basic Indexing and Slicing\n",
        "\n",
        "Basic indexing in NumPy allows you to access individual elements or a range of elements in an array using square brackets `[]`. It is the simplest and most common way to retrieve specific elements from an array.\n",
        "\n",
        "Consider a scenario where you have an array representing the daily temperatures in a week:"
      ]
    },
    {
      "cell_type": "code",
      "execution_count": 2,
      "id": "6e91b36b",
      "metadata": {
        "id": "6e91b36b"
      },
      "outputs": [],
      "source": [
        "import numpy as np\n",
        "\n",
        "temperatures = np.array([25, 26, 28, 24, 23, 26, 27])"
      ]
    },
    {
      "cell_type": "markdown",
      "id": "a67b0346",
      "metadata": {
        "id": "a67b0346"
      },
      "source": [
        "Now, let's explore different ways to perform basic indexing:\n",
        "\n",
        "1. **Accessing Individual Elements:**\n",
        "\n",
        "You can access individual elements by specifying the index of the desired element within the square brackets."
      ]
    },
    {
      "cell_type": "code",
      "execution_count": 3,
      "id": "1e56abf2",
      "metadata": {
        "colab": {
          "base_uri": "https://localhost:8080/"
        },
        "id": "1e56abf2",
        "outputId": "e2f91da3-baef-4867-d862-14f56e2dfafb"
      },
      "outputs": [
        {
          "output_type": "stream",
          "name": "stdout",
          "text": [
            "25\n",
            "24\n"
          ]
        }
      ],
      "source": [
        "print(temperatures[0])   # Access the temperature on the first day\n",
        "print(temperatures[3])   # Access the temperature on the fourth day"
      ]
    },
    {
      "cell_type": "code",
      "execution_count": 4,
      "id": "72ef4dd3",
      "metadata": {
        "colab": {
          "base_uri": "https://localhost:8080/"
        },
        "id": "72ef4dd3",
        "outputId": "41a3ff31-77cd-4eba-b72b-d8afe8d7c376"
      },
      "outputs": [
        {
          "output_type": "stream",
          "name": "stdout",
          "text": [
            "27\n"
          ]
        }
      ],
      "source": [
        "print(temperatures[-1])"
      ]
    },
    {
      "cell_type": "code",
      "execution_count": 5,
      "id": "b57fe2f3",
      "metadata": {
        "colab": {
          "base_uri": "https://localhost:8080/"
        },
        "id": "b57fe2f3",
        "outputId": "b70dc58e-7a6c-4412-f3a8-cc19b14fe05c"
      },
      "outputs": [
        {
          "output_type": "stream",
          "name": "stdout",
          "text": [
            "26\n"
          ]
        }
      ],
      "source": [
        "print(temperatures[-2])"
      ]
    },
    {
      "cell_type": "markdown",
      "id": "49d335cf",
      "metadata": {
        "id": "49d335cf"
      },
      "source": [
        "2. **Accessing a Range of Elements:**\n",
        "\n",
        "You can access a range of elements by specifying the starting and ending indices within the square brackets using the colon `:`."
      ]
    },
    {
      "cell_type": "code",
      "execution_count": 6,
      "id": "ff225863",
      "metadata": {
        "colab": {
          "base_uri": "https://localhost:8080/"
        },
        "id": "ff225863",
        "outputId": "0f8efac0-d1a8-40cd-9849-5f214b078746"
      },
      "outputs": [
        {
          "output_type": "stream",
          "name": "stdout",
          "text": [
            "[25 26 28 24 23 26 27]\n"
          ]
        }
      ],
      "source": [
        "temperatures = np.array([25, 26, 28, 24, 23, 26, 27])\n",
        "print(temperatures)"
      ]
    },
    {
      "cell_type": "code",
      "execution_count": 7,
      "id": "5ad380a7",
      "metadata": {
        "colab": {
          "base_uri": "https://localhost:8080/"
        },
        "id": "5ad380a7",
        "outputId": "33636e6a-11cb-4457-c98e-b88c26375406"
      },
      "outputs": [
        {
          "output_type": "stream",
          "name": "stdout",
          "text": [
            "[26 28 24]\n"
          ]
        }
      ],
      "source": [
        "print(temperatures[1:4])   # Access temperatures from the second to the fourth day"
      ]
    },
    {
      "cell_type": "code",
      "execution_count": 8,
      "id": "5e665af2",
      "metadata": {
        "colab": {
          "base_uri": "https://localhost:8080/"
        },
        "id": "5e665af2",
        "outputId": "78ec89a3-23ac-46f0-8540-765c896fb520"
      },
      "outputs": [
        {
          "output_type": "stream",
          "name": "stdout",
          "text": [
            "[24 23]\n"
          ]
        }
      ],
      "source": [
        "print(temperatures[3:5])\n",
        "# fetch 3,4 and not 5th"
      ]
    },
    {
      "cell_type": "code",
      "execution_count": 9,
      "id": "97cb0fca",
      "metadata": {
        "colab": {
          "base_uri": "https://localhost:8080/"
        },
        "id": "97cb0fca",
        "outputId": "280165b0-7869-4061-b4ba-4d1460ea95a9"
      },
      "outputs": [
        {
          "output_type": "stream",
          "name": "stdout",
          "text": [
            "[28 24 23 26 27]\n"
          ]
        }
      ],
      "source": [
        "print(temperatures[2:])    # Access temperatures from the third day to the last day"
      ]
    },
    {
      "cell_type": "code",
      "execution_count": 10,
      "id": "db7643b5",
      "metadata": {
        "colab": {
          "base_uri": "https://localhost:8080/"
        },
        "id": "db7643b5",
        "outputId": "30468f8a-ac6b-448a-a936-a342923b1b9f"
      },
      "outputs": [
        {
          "output_type": "stream",
          "name": "stdout",
          "text": [
            "[25 26 28]\n"
          ]
        }
      ],
      "source": [
        "print(temperatures[:3])\n",
        "# 0,1,2 and not 3"
      ]
    },
    {
      "cell_type": "markdown",
      "id": "52178985",
      "metadata": {
        "id": "52178985"
      },
      "source": [
        "It's important to note that indexing in NumPy starts from 0, so the first element is accessed using index 0, the second element with index 1, and so on.\n",
        "\n",
        "### 03.2 - Boolean Indexing (also known as Masking)\n",
        "\n",
        "Boolean indexing in NumPy allows you to select elements from an array based on a boolean condition or mask. It provides a powerful way to filter and extract data that satisfies a particular criterion.\n",
        "\n",
        "Consider a scenario where you have an array representing the scores of students in a class:"
      ]
    },
    {
      "cell_type": "code",
      "execution_count": 11,
      "id": "e91dcf65",
      "metadata": {
        "id": "e91dcf65"
      },
      "outputs": [],
      "source": [
        "scores = np.array([85, 90, 78, 92, 88, 95, 80])"
      ]
    },
    {
      "cell_type": "markdown",
      "id": "1eb2450d",
      "metadata": {
        "id": "1eb2450d"
      },
      "source": [
        "Now, let's explore how to use boolean indexing to filter and extract elements.\n",
        "\n",
        "First, you need to create a boolean mask by applying a condition to the array. The result is a boolean array of the same shape as the original array, where each element indicates whether the corresponding element in the original array satisfies the condition."
      ]
    },
    {
      "cell_type": "code",
      "execution_count": 12,
      "id": "6abd72a0",
      "metadata": {
        "colab": {
          "base_uri": "https://localhost:8080/"
        },
        "id": "6abd72a0",
        "outputId": "eb3f1283-e63e-44cf-9f7c-02a2c2b5a34b"
      },
      "outputs": [
        {
          "output_type": "stream",
          "name": "stdout",
          "text": [
            "[False  True False  True False  True False]\n"
          ]
        }
      ],
      "source": [
        "passing_mask = scores >= 90\n",
        "print(passing_mask)"
      ]
    },
    {
      "cell_type": "markdown",
      "id": "b8ff5d31",
      "metadata": {
        "id": "b8ff5d31"
      },
      "source": [
        "In this example, scores >= 90 creates a boolean mask where True corresponds to scores that are equal to or greater than 90. The resulting mask indicates which students passed the exam.\n",
        "\n",
        "Once you have the boolean mask, you can use it to select the elements that satisfy the condition by passing the mask inside the square brackets."
      ]
    },
    {
      "cell_type": "code",
      "execution_count": 13,
      "id": "5aec1956",
      "metadata": {
        "colab": {
          "base_uri": "https://localhost:8080/"
        },
        "id": "5aec1956",
        "outputId": "efad01b7-fc6a-49cc-b843-283fcbe1aef3"
      },
      "outputs": [
        {
          "output_type": "execute_result",
          "data": {
            "text/plain": [
              "array([85, 90, 78, 92, 88, 95, 80])"
            ]
          },
          "metadata": {},
          "execution_count": 13
        }
      ],
      "source": [
        "scores"
      ]
    },
    {
      "cell_type": "code",
      "execution_count": 14,
      "id": "048f8952",
      "metadata": {
        "colab": {
          "base_uri": "https://localhost:8080/"
        },
        "id": "048f8952",
        "outputId": "91e62ea7-27a7-44d0-d14d-c75d0d5b926a"
      },
      "outputs": [
        {
          "output_type": "execute_result",
          "data": {
            "text/plain": [
              "array([False,  True, False,  True, False,  True, False])"
            ]
          },
          "metadata": {},
          "execution_count": 14
        }
      ],
      "source": [
        "passing_mask"
      ]
    },
    {
      "cell_type": "code",
      "execution_count": 15,
      "id": "cb8f6385",
      "metadata": {
        "colab": {
          "base_uri": "https://localhost:8080/"
        },
        "id": "cb8f6385",
        "outputId": "6d415fa5-33d4-4847-d6e1-ac4385a33aa7"
      },
      "outputs": [
        {
          "output_type": "execute_result",
          "data": {
            "text/plain": [
              "array([90, 92, 95])"
            ]
          },
          "metadata": {},
          "execution_count": 15
        }
      ],
      "source": [
        "scores[passing_mask]"
      ]
    },
    {
      "cell_type": "code",
      "execution_count": 16,
      "id": "6bea44cd",
      "metadata": {
        "colab": {
          "base_uri": "https://localhost:8080/"
        },
        "id": "6bea44cd",
        "outputId": "aebcc94b-9a3b-47f8-8e97-82c290eaf772"
      },
      "outputs": [
        {
          "output_type": "stream",
          "name": "stdout",
          "text": [
            "[90 92 95]\n"
          ]
        }
      ],
      "source": [
        "passing_scores = scores[passing_mask]\n",
        "print(passing_scores)"
      ]
    },
    {
      "cell_type": "markdown",
      "id": "412bb380",
      "metadata": {
        "id": "412bb380"
      },
      "source": [
        "In this example, `scores[passing_mask]` retrieves the scores of students who passed the exam based on the boolean mask."
      ]
    },
    {
      "cell_type": "markdown",
      "id": "02c8cbad",
      "metadata": {
        "id": "02c8cbad"
      },
      "source": [
        "### 03.3 - Array Indexing (also known as Fancy Indexing)\n",
        "\n",
        "Integer array indexing in NumPy allows you to select elements from an array using an array of integer indices. It provides a way to access specific elements by specifying their positions with the help of another array.\n",
        "\n",
        "Imagine you have a list of students in a class, and you want to select specific students based on their positions in the list. Each student is assigned a unique ID, and you have an array representing their IDs:"
      ]
    },
    {
      "cell_type": "code",
      "execution_count": 17,
      "id": "d00f88f2",
      "metadata": {
        "id": "d00f88f2"
      },
      "outputs": [],
      "source": [
        "student_ids = np.array([101, 105, 110, 115, 120, 125])"
      ]
    },
    {
      "cell_type": "markdown",
      "id": "4b5a9c99",
      "metadata": {
        "id": "4b5a9c99"
      },
      "source": [
        "Now, let's explore how to use integer array indexing to select specific students:\n",
        "\n",
        "To select specific students, you need to create another array containing the indices of the students you want to choose. These indices represent the positions of the students in the original list.\n",
        "\n",
        "```py\n",
        "indices = np.array([1, 3, 5])\n",
        "```\n",
        "\n",
        "In this example, indices is an array that contains the positions of the students you want to select.\n",
        "\n",
        "Once you have the array of indices, you can use it to select the desired students from the original array by passing it inside the square brackets.\n",
        "\n",
        "```py\n",
        "selected_students = student_ids[indices]\n",
        "print(selected_students)\n",
        "```\n",
        "In this example, `student_ids[indices]` retrieves the students' IDs at the positions specified by the indices array."
      ]
    },
    {
      "cell_type": "code",
      "execution_count": 18,
      "id": "a236d108",
      "metadata": {
        "colab": {
          "base_uri": "https://localhost:8080/"
        },
        "id": "a236d108",
        "outputId": "1665645d-0032-4e69-e81f-523d0504ab7c"
      },
      "outputs": [
        {
          "output_type": "execute_result",
          "data": {
            "text/plain": [
              "array([101, 105, 110, 115, 120, 125])"
            ]
          },
          "metadata": {},
          "execution_count": 18
        }
      ],
      "source": [
        "student_ids"
      ]
    },
    {
      "cell_type": "code",
      "execution_count": 19,
      "id": "b174131a",
      "metadata": {
        "colab": {
          "base_uri": "https://localhost:8080/"
        },
        "id": "b174131a",
        "outputId": "78a79e62-e5dd-44e2-af2e-d1cf2c714e12"
      },
      "outputs": [
        {
          "output_type": "stream",
          "name": "stdout",
          "text": [
            "[105 115 125]\n"
          ]
        }
      ],
      "source": [
        "indices = np.array([1, 3, 5])\n",
        "selected_students = student_ids[indices]\n",
        "print(selected_students)"
      ]
    },
    {
      "cell_type": "code",
      "source": [
        "student_ids[6]"
      ],
      "metadata": {
        "colab": {
          "base_uri": "https://localhost:8080/",
          "height": 165
        },
        "id": "slhFlHBOMLcp",
        "outputId": "b0166882-6aa7-42e9-face-fd9ea46a8cf1"
      },
      "id": "slhFlHBOMLcp",
      "execution_count": 20,
      "outputs": [
        {
          "output_type": "error",
          "ename": "IndexError",
          "evalue": "ignored",
          "traceback": [
            "\u001b[0;31m---------------------------------------------------------------------------\u001b[0m",
            "\u001b[0;31mIndexError\u001b[0m                                Traceback (most recent call last)",
            "\u001b[0;32m<ipython-input-20-4d5b3436f5f3>\u001b[0m in \u001b[0;36m<cell line: 1>\u001b[0;34m()\u001b[0m\n\u001b[0;32m----> 1\u001b[0;31m \u001b[0mstudent_ids\u001b[0m\u001b[0;34m[\u001b[0m\u001b[0;36m6\u001b[0m\u001b[0;34m]\u001b[0m\u001b[0;34m\u001b[0m\u001b[0;34m\u001b[0m\u001b[0m\n\u001b[0m",
            "\u001b[0;31mIndexError\u001b[0m: index 6 is out of bounds for axis 0 with size 6"
          ]
        }
      ]
    },
    {
      "cell_type": "code",
      "execution_count": null,
      "id": "2eb8bfd1",
      "metadata": {
        "id": "2eb8bfd1",
        "outputId": "bc1e60d0-6654-4bea-962a-bee72e5eb12a"
      },
      "outputs": [
        {
          "ename": "IndexError",
          "evalue": "index 7 is out of bounds for axis 0 with size 6",
          "output_type": "error",
          "traceback": [
            "\u001b[0;31m---------------------------------------------------------------------------\u001b[0m",
            "\u001b[0;31mIndexError\u001b[0m                                Traceback (most recent call last)",
            "\u001b[0;32m/var/folders/dq/452wvgp96nv2qcc3dn0dv8240000gn/T/ipykernel_1352/156999797.py\u001b[0m in \u001b[0;36m<module>\u001b[0;34m\u001b[0m\n\u001b[0;32m----> 1\u001b[0;31m \u001b[0mnp\u001b[0m\u001b[0;34m.\u001b[0m\u001b[0mtake\u001b[0m\u001b[0;34m(\u001b[0m\u001b[0mstudent_ids\u001b[0m\u001b[0;34m,\u001b[0m\u001b[0;36m7\u001b[0m\u001b[0;34m)\u001b[0m\u001b[0;34m\u001b[0m\u001b[0;34m\u001b[0m\u001b[0m\n\u001b[0m",
            "\u001b[0;32m<__array_function__ internals>\u001b[0m in \u001b[0;36mtake\u001b[0;34m(*args, **kwargs)\u001b[0m\n",
            "\u001b[0;32m~/opt/anaconda3/lib/python3.9/site-packages/numpy/core/fromnumeric.py\u001b[0m in \u001b[0;36mtake\u001b[0;34m(a, indices, axis, out, mode)\u001b[0m\n\u001b[1;32m    189\u001b[0m            [5, 7]])\n\u001b[1;32m    190\u001b[0m     \"\"\"\n\u001b[0;32m--> 191\u001b[0;31m     \u001b[0;32mreturn\u001b[0m \u001b[0m_wrapfunc\u001b[0m\u001b[0;34m(\u001b[0m\u001b[0ma\u001b[0m\u001b[0;34m,\u001b[0m \u001b[0;34m'take'\u001b[0m\u001b[0;34m,\u001b[0m \u001b[0mindices\u001b[0m\u001b[0;34m,\u001b[0m \u001b[0maxis\u001b[0m\u001b[0;34m=\u001b[0m\u001b[0maxis\u001b[0m\u001b[0;34m,\u001b[0m \u001b[0mout\u001b[0m\u001b[0;34m=\u001b[0m\u001b[0mout\u001b[0m\u001b[0;34m,\u001b[0m \u001b[0mmode\u001b[0m\u001b[0;34m=\u001b[0m\u001b[0mmode\u001b[0m\u001b[0;34m)\u001b[0m\u001b[0;34m\u001b[0m\u001b[0;34m\u001b[0m\u001b[0m\n\u001b[0m\u001b[1;32m    192\u001b[0m \u001b[0;34m\u001b[0m\u001b[0m\n\u001b[1;32m    193\u001b[0m \u001b[0;34m\u001b[0m\u001b[0m\n",
            "\u001b[0;32m~/opt/anaconda3/lib/python3.9/site-packages/numpy/core/fromnumeric.py\u001b[0m in \u001b[0;36m_wrapfunc\u001b[0;34m(obj, method, *args, **kwds)\u001b[0m\n\u001b[1;32m     56\u001b[0m \u001b[0;34m\u001b[0m\u001b[0m\n\u001b[1;32m     57\u001b[0m     \u001b[0;32mtry\u001b[0m\u001b[0;34m:\u001b[0m\u001b[0;34m\u001b[0m\u001b[0;34m\u001b[0m\u001b[0m\n\u001b[0;32m---> 58\u001b[0;31m         \u001b[0;32mreturn\u001b[0m \u001b[0mbound\u001b[0m\u001b[0;34m(\u001b[0m\u001b[0;34m*\u001b[0m\u001b[0margs\u001b[0m\u001b[0;34m,\u001b[0m \u001b[0;34m**\u001b[0m\u001b[0mkwds\u001b[0m\u001b[0;34m)\u001b[0m\u001b[0;34m\u001b[0m\u001b[0;34m\u001b[0m\u001b[0m\n\u001b[0m\u001b[1;32m     59\u001b[0m     \u001b[0;32mexcept\u001b[0m \u001b[0mTypeError\u001b[0m\u001b[0;34m:\u001b[0m\u001b[0;34m\u001b[0m\u001b[0;34m\u001b[0m\u001b[0m\n\u001b[1;32m     60\u001b[0m         \u001b[0;31m# A TypeError occurs if the object does have such a method in its\u001b[0m\u001b[0;34m\u001b[0m\u001b[0;34m\u001b[0m\u001b[0m\n",
            "\u001b[0;31mIndexError\u001b[0m: index 7 is out of bounds for axis 0 with size 6"
          ]
        }
      ],
      "source": [
        "np.take(student_ids,7)"
      ]
    },
    {
      "cell_type": "code",
      "source": [
        "np.take(student_ids,3)"
      ],
      "metadata": {
        "colab": {
          "base_uri": "https://localhost:8080/"
        },
        "id": "UPpsHFAKM1IZ",
        "outputId": "9d00e6e4-03ac-41c0-892b-31732fa913b0"
      },
      "id": "UPpsHFAKM1IZ",
      "execution_count": 21,
      "outputs": [
        {
          "output_type": "execute_result",
          "data": {
            "text/plain": [
              "115"
            ]
          },
          "metadata": {},
          "execution_count": 21
        }
      ]
    },
    {
      "cell_type": "code",
      "execution_count": 22,
      "id": "220701bc",
      "metadata": {
        "colab": {
          "base_uri": "https://localhost:8080/",
          "height": 165
        },
        "id": "220701bc",
        "outputId": "e4449896-e656-4d06-841f-ad66d66e4f9d"
      },
      "outputs": [
        {
          "output_type": "error",
          "ename": "NameError",
          "evalue": "ignored",
          "traceback": [
            "\u001b[0;31m---------------------------------------------------------------------------\u001b[0m",
            "\u001b[0;31mNameError\u001b[0m                                 Traceback (most recent call last)",
            "\u001b[0;32m<ipython-input-22-ca8eaf5b4da8>\u001b[0m in \u001b[0;36m<cell line: 1>\u001b[0;34m()\u001b[0m\n\u001b[0;32m----> 1\u001b[0;31m \u001b[0mstudents\u001b[0m\u001b[0;34m.\u001b[0m\u001b[0mget\u001b[0m\u001b[0;34m(\u001b[0m\u001b[0mstudent_ids\u001b[0m\u001b[0;34m,\u001b[0m\u001b[0;36m3\u001b[0m\u001b[0;34m)\u001b[0m\u001b[0;34m\u001b[0m\u001b[0;34m\u001b[0m\u001b[0m\n\u001b[0m",
            "\u001b[0;31mNameError\u001b[0m: name 'students' is not defined"
          ]
        }
      ],
      "source": [
        "students.get(student_ids,3)"
      ]
    },
    {
      "cell_type": "markdown",
      "id": "5e022ef3",
      "metadata": {
        "id": "5e022ef3"
      },
      "source": [
        "By utilizing these various indexing techniques, you can selectively access and manipulate elements in NumPy arrays based on their positions, offering flexibility and control over data extraction and manipulation tasks."
      ]
    },
    {
      "cell_type": "markdown",
      "id": "8776095f",
      "metadata": {
        "id": "8776095f"
      },
      "source": [
        "### 03.4 Working with 2D Arrays\n",
        "\n",
        "Imagine you have a 2D array representing the daily closing prices of different stocks over a certain period of time. Each row corresponds to a stock, and each column represents a trading day."
      ]
    },
    {
      "cell_type": "code",
      "execution_count": 23,
      "id": "eb583e41",
      "metadata": {
        "colab": {
          "base_uri": "https://localhost:8080/"
        },
        "id": "eb583e41",
        "outputId": "af907ec2-1916-4226-9d34-0498cacd28de"
      },
      "outputs": [
        {
          "output_type": "stream",
          "name": "stdout",
          "text": [
            "Closing Prices:\n",
            "[[116 169 179 107 190]\n",
            " [165  56 103 195 191]\n",
            " [145 198  54  88  90]\n",
            " [141 109 108 187 101]\n",
            " [ 74 121 141 141 109]]\n"
          ]
        }
      ],
      "source": [
        "# Create a 2D array of daily closing prices (5 stocks x 30 trading days)\n",
        "closing_prices = np.random.randint(low=50, high=200, size=(5, 5))\n",
        "print(\"Closing Prices:\")\n",
        "print(closing_prices)"
      ]
    },
    {
      "cell_type": "code",
      "execution_count": 24,
      "id": "e4a5acd2",
      "metadata": {
        "colab": {
          "base_uri": "https://localhost:8080/"
        },
        "id": "e4a5acd2",
        "outputId": "f0151ea1-c9e9-4970-d86d-6057abde7155"
      },
      "outputs": [
        {
          "output_type": "execute_result",
          "data": {
            "text/plain": [
              "2"
            ]
          },
          "metadata": {},
          "execution_count": 24
        }
      ],
      "source": [
        "closing_prices.ndim"
      ]
    },
    {
      "cell_type": "code",
      "execution_count": 25,
      "id": "ccf58f25",
      "metadata": {
        "colab": {
          "base_uri": "https://localhost:8080/"
        },
        "id": "ccf58f25",
        "outputId": "997eaba4-09da-4fa1-e021-1d2095f8008a"
      },
      "outputs": [
        {
          "output_type": "execute_result",
          "data": {
            "text/plain": [
              "(5, 5)"
            ]
          },
          "metadata": {},
          "execution_count": 25
        }
      ],
      "source": [
        "closing_prices.shape"
      ]
    },
    {
      "cell_type": "markdown",
      "id": "9044eb6e",
      "metadata": {
        "id": "9044eb6e"
      },
      "source": [
        "1. **Accessing a Row:**\n",
        "\n",
        "In this case, you may want to access a specific row corresponding to a particular stock. You can do this by specifying the row index."
      ]
    },
    {
      "cell_type": "code",
      "execution_count": 26,
      "id": "92167868",
      "metadata": {
        "colab": {
          "base_uri": "https://localhost:8080/"
        },
        "id": "92167868",
        "outputId": "f6a82a08-bba4-46ae-f46c-a561c71f98c3"
      },
      "outputs": [
        {
          "output_type": "execute_result",
          "data": {
            "text/plain": [
              "array([[116, 169, 179, 107, 190],\n",
              "       [165,  56, 103, 195, 191],\n",
              "       [145, 198,  54,  88,  90],\n",
              "       [141, 109, 108, 187, 101],\n",
              "       [ 74, 121, 141, 141, 109]])"
            ]
          },
          "metadata": {},
          "execution_count": 26
        }
      ],
      "source": [
        "closing_prices"
      ]
    },
    {
      "cell_type": "code",
      "execution_count": 27,
      "id": "fa370658",
      "metadata": {
        "colab": {
          "base_uri": "https://localhost:8080/"
        },
        "id": "fa370658",
        "outputId": "6ef6b0cb-be75-4c5a-aa05-1becb79e32f4"
      },
      "outputs": [
        {
          "output_type": "stream",
          "name": "stdout",
          "text": [
            "Closing Prices for Stock 3:\n",
            "[145 198  54  88  90]\n"
          ]
        }
      ],
      "source": [
        "stock_3_prices = closing_prices[2]\n",
        "print(\"Closing Prices for Stock 3:\")\n",
        "print(stock_3_prices)"
      ]
    },
    {
      "cell_type": "code",
      "execution_count": null,
      "id": "3fb28044",
      "metadata": {
        "id": "3fb28044"
      },
      "outputs": [],
      "source": []
    },
    {
      "cell_type": "code",
      "execution_count": null,
      "id": "989cbbc3",
      "metadata": {
        "id": "989cbbc3"
      },
      "outputs": [],
      "source": []
    },
    {
      "cell_type": "code",
      "execution_count": 30,
      "id": "a624ee8e",
      "metadata": {
        "colab": {
          "base_uri": "https://localhost:8080/"
        },
        "id": "a624ee8e",
        "outputId": "2dd9d86f-45f4-4dd5-f5d4-879b93e2a948"
      },
      "outputs": [
        {
          "output_type": "execute_result",
          "data": {
            "text/plain": [
              "54"
            ]
          },
          "metadata": {},
          "execution_count": 30
        }
      ],
      "source": [
        "closing_prices[2][2]\n"
      ]
    },
    {
      "cell_type": "code",
      "source": [
        "closing_prices[2,2]"
      ],
      "metadata": {
        "colab": {
          "base_uri": "https://localhost:8080/"
        },
        "id": "LDbsbi25Qtb_",
        "outputId": "c44df9a2-f619-4bda-dbfd-d3668c1182cf"
      },
      "id": "LDbsbi25Qtb_",
      "execution_count": 31,
      "outputs": [
        {
          "output_type": "execute_result",
          "data": {
            "text/plain": [
              "54"
            ]
          },
          "metadata": {},
          "execution_count": 31
        }
      ]
    },
    {
      "cell_type": "code",
      "execution_count": 32,
      "id": "886585ad",
      "metadata": {
        "colab": {
          "base_uri": "https://localhost:8080/"
        },
        "id": "886585ad",
        "outputId": "21515f72-dd62-4523-b313-73975481e6de"
      },
      "outputs": [
        {
          "output_type": "execute_result",
          "data": {
            "text/plain": [
              "array([[116, 169, 179, 107, 190],\n",
              "       [165,  56, 103, 195, 191],\n",
              "       [145, 198,  54,  88,  90],\n",
              "       [141, 109, 108, 187, 101],\n",
              "       [ 74, 121, 141, 141, 109]])"
            ]
          },
          "metadata": {},
          "execution_count": 32
        }
      ],
      "source": [
        "closing_prices"
      ]
    },
    {
      "cell_type": "code",
      "execution_count": 33,
      "id": "8a0f80cc",
      "metadata": {
        "colab": {
          "base_uri": "https://localhost:8080/"
        },
        "id": "8a0f80cc",
        "outputId": "5955a209-57a2-4242-dd51-175889376717"
      },
      "outputs": [
        {
          "output_type": "execute_result",
          "data": {
            "text/plain": [
              "array([[145, 198,  54,  88],\n",
              "       [141, 109, 108, 187],\n",
              "       [ 74, 121, 141, 141]])"
            ]
          },
          "metadata": {},
          "execution_count": 33
        }
      ],
      "source": [
        "closing_prices[2:, :4]\n",
        "\n",
        "# closing_prices[2: - fetch from 2nd index rows till end,\n",
        "#               :4 - fetch till 4th index (not incl.)]\n",
        "\n",
        "# rows,columns"
      ]
    },
    {
      "cell_type": "code",
      "source": [
        "closing_prices[2:]"
      ],
      "metadata": {
        "colab": {
          "base_uri": "https://localhost:8080/"
        },
        "id": "XKSXvTliRo4u",
        "outputId": "7495ce56-b8f3-4c40-e803-e31430ebd69f"
      },
      "id": "XKSXvTliRo4u",
      "execution_count": 34,
      "outputs": [
        {
          "output_type": "execute_result",
          "data": {
            "text/plain": [
              "array([[145, 198,  54,  88,  90],\n",
              "       [141, 109, 108, 187, 101],\n",
              "       [ 74, 121, 141, 141, 109]])"
            ]
          },
          "metadata": {},
          "execution_count": 34
        }
      ]
    },
    {
      "cell_type": "code",
      "execution_count": 35,
      "id": "0e1cc751",
      "metadata": {
        "colab": {
          "base_uri": "https://localhost:8080/"
        },
        "id": "0e1cc751",
        "outputId": "9a23c757-78e5-4c68-bc86-f172aad00005"
      },
      "outputs": [
        {
          "output_type": "execute_result",
          "data": {
            "text/plain": [
              "array([[141],\n",
              "       [ 74]])"
            ]
          },
          "metadata": {},
          "execution_count": 35
        }
      ],
      "source": [
        "closing_prices[3:, :1]"
      ]
    },
    {
      "cell_type": "code",
      "execution_count": 36,
      "id": "10ecc76d",
      "metadata": {
        "colab": {
          "base_uri": "https://localhost:8080/"
        },
        "id": "10ecc76d",
        "outputId": "69ecacab-94a1-4670-ae1e-83212e9b7297"
      },
      "outputs": [
        {
          "output_type": "execute_result",
          "data": {
            "text/plain": [
              "array([[141],\n",
              "       [ 74]])"
            ]
          },
          "metadata": {},
          "execution_count": 36
        }
      ],
      "source": [
        "closing_prices[3:, :1]"
      ]
    },
    {
      "cell_type": "code",
      "execution_count": null,
      "id": "97d45179",
      "metadata": {
        "id": "97d45179"
      },
      "outputs": [],
      "source": []
    },
    {
      "cell_type": "markdown",
      "id": "3e501b3b",
      "metadata": {
        "id": "3e501b3b"
      },
      "source": [
        "2. **Accessing Multiple Rows:**\n",
        "\n",
        "To access multiple rows, you can specify a range of row indices using slicing."
      ]
    },
    {
      "cell_type": "code",
      "execution_count": 37,
      "id": "e30ba5fa",
      "metadata": {
        "colab": {
          "base_uri": "https://localhost:8080/"
        },
        "id": "e30ba5fa",
        "outputId": "58e93a7f-c3fb-451f-8708-ed41178aa473"
      },
      "outputs": [
        {
          "output_type": "stream",
          "name": "stdout",
          "text": [
            "Closing Prices for Selected Stocks:\n",
            "[[165  56 103 195 191]\n",
            " [141 109 108 187 101]\n",
            " [ 74 121 141 141 109]]\n"
          ]
        }
      ],
      "source": [
        "# Access the closing prices for stocks 2, 4, and 5 (row indices 1, 3, and 4)\n",
        "selected_stocks_prices = closing_prices[[1, 3, 4]]\n",
        "print(\"Closing Prices for Selected Stocks:\")\n",
        "print(selected_stocks_prices)"
      ]
    },
    {
      "cell_type": "code",
      "source": [
        "closing_prices"
      ],
      "metadata": {
        "colab": {
          "base_uri": "https://localhost:8080/"
        },
        "id": "GVELe6_OWfTw",
        "outputId": "697a0e20-2547-4d67-c58f-574db8943980"
      },
      "id": "GVELe6_OWfTw",
      "execution_count": 39,
      "outputs": [
        {
          "output_type": "execute_result",
          "data": {
            "text/plain": [
              "array([[116, 169, 179, 107, 190],\n",
              "       [165,  56, 103, 195, 191],\n",
              "       [145, 198,  54,  88,  90],\n",
              "       [141, 109, 108, 187, 101],\n",
              "       [ 74, 121, 141, 141, 109]])"
            ]
          },
          "metadata": {},
          "execution_count": 39
        }
      ]
    },
    {
      "cell_type": "markdown",
      "id": "4ff919eb",
      "metadata": {
        "id": "4ff919eb"
      },
      "source": [
        "3. **Accessing a Column:**\n",
        "\n",
        "To access a specific column, you can use indexing with the column index."
      ]
    },
    {
      "cell_type": "code",
      "execution_count": 38,
      "id": "fc41ca8f",
      "metadata": {
        "colab": {
          "base_uri": "https://localhost:8080/"
        },
        "id": "fc41ca8f",
        "outputId": "ff240822-1a73-49f1-86be-ed3470ac2bbc"
      },
      "outputs": [
        {
          "output_type": "stream",
          "name": "stdout",
          "text": [
            "Closing Prices for Day 5:\n",
            "[190 191  90 101 109]\n"
          ]
        }
      ],
      "source": [
        "# Access the closing prices for the 5th trading day (column index 4)\n",
        "day_5_prices = closing_prices[:, 4]\n",
        "print(\"Closing Prices for Day 5:\")\n",
        "print(day_5_prices)"
      ]
    },
    {
      "cell_type": "markdown",
      "id": "59fa3e7f",
      "metadata": {
        "id": "59fa3e7f"
      },
      "source": [
        "4. **Accessing Multiple Columns:**\n",
        "\n",
        "To access multiple columns, you can use slicing with column indices."
      ]
    },
    {
      "cell_type": "code",
      "execution_count": 42,
      "id": "611a0b82",
      "metadata": {
        "colab": {
          "base_uri": "https://localhost:8080/"
        },
        "id": "611a0b82",
        "outputId": "bba43971-751d-49b0-e1cb-7f1995abbae6"
      },
      "outputs": [
        {
          "output_type": "stream",
          "name": "stdout",
          "text": [
            "Closing Prices for Selected Days:\n",
            "[[179 190]\n",
            " [103 191]\n",
            " [ 54  90]\n",
            " [108 101]\n",
            " [141 109]]\n"
          ]
        }
      ],
      "source": [
        "# Access the closing prices for the 3rd, 5th, and 7th trading days (column indices 2, 4, and 6)\n",
        "selected_days_prices = closing_prices[:, [2, 4]]\n",
        "print(\"Closing Prices for Selected Days:\")\n",
        "print(selected_days_prices)"
      ]
    },
    {
      "cell_type": "markdown",
      "id": "d0d6fa62",
      "metadata": {
        "id": "d0d6fa62"
      },
      "source": [
        "5. **Boolean Indexing Example:**\n",
        "\n",
        "Boolean indexing allows you to select specific rows based on a condition or criteria."
      ]
    },
    {
      "cell_type": "code",
      "execution_count": 43,
      "id": "4e8ef8c0",
      "metadata": {
        "colab": {
          "base_uri": "https://localhost:8080/"
        },
        "id": "4e8ef8c0",
        "outputId": "b5a087cb-aca2-4608-95a7-54a5643fbe5a"
      },
      "outputs": [
        {
          "output_type": "stream",
          "name": "stdout",
          "text": [
            "Closing Prices for High Price Stocks:\n",
            "[169 179 190 165 195 191 198 187]\n"
          ]
        }
      ],
      "source": [
        "# Access the closing prices for stocks with prices above 150\n",
        "high_price_stocks = closing_prices[closing_prices > 150]\n",
        "print(\"Closing Prices for High Price Stocks:\")\n",
        "print(high_price_stocks)"
      ]
    },
    {
      "cell_type": "markdown",
      "id": "b7923f42",
      "metadata": {
        "id": "b7923f42"
      },
      "source": [
        "6. **Array Indexing Example:**\n",
        "\n",
        "Array indexing can be used to extract specific data points based on given indices."
      ]
    },
    {
      "cell_type": "code",
      "execution_count": 47,
      "id": "bb0cb859",
      "metadata": {
        "colab": {
          "base_uri": "https://localhost:8080/"
        },
        "id": "bb0cb859",
        "outputId": "229bfd2d-f342-4dc2-9830-a3b1291f0c8a"
      },
      "outputs": [
        {
          "output_type": "stream",
          "name": "stdout",
          "text": [
            "Selected Closing Prices:\n",
            "[[169 107 190]\n",
            " [198  88  90]\n",
            " [121 141 109]]\n"
          ]
        }
      ],
      "source": [
        "# Define the indices for the desired data points\n",
        "row_indices = np.array([0, 2, 4])\n",
        "column_indices = np.array([1, 3, 4])\n",
        "\n",
        "# Access the closing prices for the specified data points\n",
        "selected_prices = closing_prices[row_indices[:, np.newaxis], column_indices]\n",
        "print(\"Selected Closing Prices:\")\n",
        "print(selected_prices)"
      ]
    },
    {
      "cell_type": "markdown",
      "id": "8065cd22",
      "metadata": {
        "id": "8065cd22"
      },
      "source": [
        "These situations demonstrate how to access rows, multiple rows, columns, multiple columns, and how to use array indexing for rows and columns in NumPy arrays. By applying appropriate indexing techniques, you can extract and analyze specific subsets of data for further analysis or processing. <hr>"
      ]
    }
  ],
  "metadata": {
    "kernelspec": {
      "display_name": "Python 3 (ipykernel)",
      "language": "python",
      "name": "python3"
    },
    "language_info": {
      "codemirror_mode": {
        "name": "ipython",
        "version": 3
      },
      "file_extension": ".py",
      "mimetype": "text/x-python",
      "name": "python",
      "nbconvert_exporter": "python",
      "pygments_lexer": "ipython3",
      "version": "3.9.7"
    },
    "colab": {
      "provenance": [],
      "include_colab_link": true
    }
  },
  "nbformat": 4,
  "nbformat_minor": 5
}